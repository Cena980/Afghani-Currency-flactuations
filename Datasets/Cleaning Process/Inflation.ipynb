{
 "cells": [
  {
   "cell_type": "code",
   "execution_count": 2,
   "id": "47f28b15-b321-43bf-a10c-d47a43f8ed24",
   "metadata": {},
   "outputs": [],
   "source": [
    "import pandas as pd\n",
    "import seaborn as sns"
   ]
  },
  {
   "cell_type": "code",
   "execution_count": 28,
   "id": "05260032-27a2-4b32-ab80-5d54ba6b137f",
   "metadata": {},
   "outputs": [],
   "source": [
    "df = pd.read_csv('Inflation.csv')"
   ]
  },
  {
   "cell_type": "code",
   "execution_count": 4,
   "id": "29883bcb-ceda-49c5-90d9-f15ed3fa5220",
   "metadata": {},
   "outputs": [
    {
     "data": {
      "text/plain": [
       "Index(['Country Name ', '2000', '2001', '2002', '2003', '2004', '2005', '2006',\n",
       "       '2007', '2008', '2009', 'Unnamed: 11', '2010', '2011', '2012', '2013',\n",
       "       '2014', '2015', '2016', '2017', '2018', '2019', '2020', '2021', '2022',\n",
       "       '2023'],\n",
       "      dtype='object')"
      ]
     },
     "execution_count": 4,
     "metadata": {},
     "output_type": "execute_result"
    }
   ],
   "source": [
    "df.columns"
   ]
  },
  {
   "cell_type": "code",
   "execution_count": 5,
   "id": "48d974ea-e496-425b-b227-28176a3da50c",
   "metadata": {},
   "outputs": [
    {
     "data": {
      "text/html": [
       "<div>\n",
       "<style scoped>\n",
       "    .dataframe tbody tr th:only-of-type {\n",
       "        vertical-align: middle;\n",
       "    }\n",
       "\n",
       "    .dataframe tbody tr th {\n",
       "        vertical-align: top;\n",
       "    }\n",
       "\n",
       "    .dataframe thead th {\n",
       "        text-align: right;\n",
       "    }\n",
       "</style>\n",
       "<table border=\"1\" class=\"dataframe\">\n",
       "  <thead>\n",
       "    <tr style=\"text-align: right;\">\n",
       "      <th></th>\n",
       "      <th>Country Name</th>\n",
       "      <th>2000</th>\n",
       "      <th>2001</th>\n",
       "      <th>2002</th>\n",
       "      <th>2003</th>\n",
       "      <th>2004</th>\n",
       "      <th>2005</th>\n",
       "      <th>2006</th>\n",
       "      <th>2007</th>\n",
       "      <th>2008</th>\n",
       "      <th>...</th>\n",
       "      <th>2014</th>\n",
       "      <th>2015</th>\n",
       "      <th>2016</th>\n",
       "      <th>2017</th>\n",
       "      <th>2018</th>\n",
       "      <th>2019</th>\n",
       "      <th>2020</th>\n",
       "      <th>2021</th>\n",
       "      <th>2022</th>\n",
       "      <th>2023</th>\n",
       "    </tr>\n",
       "  </thead>\n",
       "  <tbody>\n",
       "    <tr>\n",
       "      <th>0</th>\n",
       "      <td>Afghanistan</td>\n",
       "      <td>..</td>\n",
       "      <td>..</td>\n",
       "      <td>..</td>\n",
       "      <td>..</td>\n",
       "      <td>..</td>\n",
       "      <td>12.7</td>\n",
       "      <td>6.8</td>\n",
       "      <td>8.7</td>\n",
       "      <td>26.4</td>\n",
       "      <td>...</td>\n",
       "      <td>4.7</td>\n",
       "      <td>-0.7</td>\n",
       "      <td>4.4</td>\n",
       "      <td>5.0</td>\n",
       "      <td>0.6</td>\n",
       "      <td>2.3</td>\n",
       "      <td>..</td>\n",
       "      <td>..</td>\n",
       "      <td>..</td>\n",
       "      <td>..</td>\n",
       "    </tr>\n",
       "    <tr>\n",
       "      <th>1</th>\n",
       "      <td>Albania</td>\n",
       "      <td>0.1</td>\n",
       "      <td>3.1</td>\n",
       "      <td>7.8</td>\n",
       "      <td>0.5</td>\n",
       "      <td>2.3</td>\n",
       "      <td>2.4</td>\n",
       "      <td>2.4</td>\n",
       "      <td>2.9</td>\n",
       "      <td>3.3</td>\n",
       "      <td>...</td>\n",
       "      <td>1.6</td>\n",
       "      <td>1.9</td>\n",
       "      <td>1.3</td>\n",
       "      <td>2.0</td>\n",
       "      <td>2.0</td>\n",
       "      <td>1.4</td>\n",
       "      <td>1.6</td>\n",
       "      <td>2.0</td>\n",
       "      <td>6.7</td>\n",
       "      <td>..</td>\n",
       "    </tr>\n",
       "    <tr>\n",
       "      <th>2</th>\n",
       "      <td>Algeria</td>\n",
       "      <td>0.3</td>\n",
       "      <td>4.2</td>\n",
       "      <td>1.4</td>\n",
       "      <td>4.3</td>\n",
       "      <td>4.0</td>\n",
       "      <td>1.4</td>\n",
       "      <td>2.3</td>\n",
       "      <td>3.7</td>\n",
       "      <td>4.9</td>\n",
       "      <td>...</td>\n",
       "      <td>2.9</td>\n",
       "      <td>4.8</td>\n",
       "      <td>6.4</td>\n",
       "      <td>5.6</td>\n",
       "      <td>4.3</td>\n",
       "      <td>2.0</td>\n",
       "      <td>2.4</td>\n",
       "      <td>7.2</td>\n",
       "      <td>9.3</td>\n",
       "      <td>..</td>\n",
       "    </tr>\n",
       "    <tr>\n",
       "      <th>3</th>\n",
       "      <td>American Samoa</td>\n",
       "      <td>..</td>\n",
       "      <td>..</td>\n",
       "      <td>..</td>\n",
       "      <td>..</td>\n",
       "      <td>..</td>\n",
       "      <td>..</td>\n",
       "      <td>..</td>\n",
       "      <td>..</td>\n",
       "      <td>..</td>\n",
       "      <td>...</td>\n",
       "      <td>..</td>\n",
       "      <td>..</td>\n",
       "      <td>..</td>\n",
       "      <td>..</td>\n",
       "      <td>..</td>\n",
       "      <td>..</td>\n",
       "      <td>..</td>\n",
       "      <td>..</td>\n",
       "      <td>..</td>\n",
       "      <td>..</td>\n",
       "    </tr>\n",
       "    <tr>\n",
       "      <th>4</th>\n",
       "      <td>Andorra</td>\n",
       "      <td>..</td>\n",
       "      <td>..</td>\n",
       "      <td>..</td>\n",
       "      <td>..</td>\n",
       "      <td>..</td>\n",
       "      <td>..</td>\n",
       "      <td>..</td>\n",
       "      <td>..</td>\n",
       "      <td>..</td>\n",
       "      <td>...</td>\n",
       "      <td>..</td>\n",
       "      <td>..</td>\n",
       "      <td>..</td>\n",
       "      <td>..</td>\n",
       "      <td>..</td>\n",
       "      <td>..</td>\n",
       "      <td>..</td>\n",
       "      <td>..</td>\n",
       "      <td>..</td>\n",
       "      <td>..</td>\n",
       "    </tr>\n",
       "  </tbody>\n",
       "</table>\n",
       "<p>5 rows × 26 columns</p>\n",
       "</div>"
      ],
      "text/plain": [
       "    Country Name  2000 2001 2002 2003 2004  2005 2006 2007  2008  ... 2014  \\\n",
       "0     Afghanistan   ..   ..   ..   ..   ..  12.7  6.8  8.7  26.4  ...  4.7   \n",
       "1         Albania  0.1  3.1  7.8  0.5  2.3   2.4  2.4  2.9   3.3  ...  1.6   \n",
       "2         Algeria  0.3  4.2  1.4  4.3  4.0   1.4  2.3  3.7   4.9  ...  2.9   \n",
       "3  American Samoa   ..   ..   ..   ..   ..    ..   ..   ..    ..  ...   ..   \n",
       "4         Andorra   ..   ..   ..   ..   ..    ..   ..   ..    ..  ...   ..   \n",
       "\n",
       "   2015 2016 2017 2018 2019 2020 2021 2022 2023  \n",
       "0  -0.7  4.4  5.0  0.6  2.3   ..   ..   ..   ..  \n",
       "1   1.9  1.3  2.0  2.0  1.4  1.6  2.0  6.7   ..  \n",
       "2   4.8  6.4  5.6  4.3  2.0  2.4  7.2  9.3   ..  \n",
       "3    ..   ..   ..   ..   ..   ..   ..   ..   ..  \n",
       "4    ..   ..   ..   ..   ..   ..   ..   ..   ..  \n",
       "\n",
       "[5 rows x 26 columns]"
      ]
     },
     "execution_count": 5,
     "metadata": {},
     "output_type": "execute_result"
    }
   ],
   "source": [
    "df.head()"
   ]
  },
  {
   "cell_type": "code",
   "execution_count": 6,
   "id": "3ff0413a-7a8e-492b-bf43-4b91f16f2853",
   "metadata": {},
   "outputs": [
    {
     "data": {
      "text/plain": [
       "<bound method NDFrame.tail of                                          Country Name   2000  2001  2002  \\\n",
       "0                                          Afghanistan    ..    ..    ..   \n",
       "1                                              Albania   0.1   3.1   7.8   \n",
       "2                                              Algeria   0.3   4.2   1.4   \n",
       "3                                       American Samoa    ..    ..    ..   \n",
       "4                                              Andorra    ..    ..    ..   \n",
       "..                                                 ...   ...   ...   ...   \n",
       "213                                 West Bank and Gaza   2.8   1.2   5.7   \n",
       "214                                        Yemen, Rep.   4.6  11.9  12.2   \n",
       "215                                             Zambia  26.0  21.4  22.2   \n",
       "216                                           Zimbabwe    ..    ..    ..   \n",
       "217  Created from: World Development Indicators\\nSe...   NaN   NaN   NaN   \n",
       "\n",
       "     2003  2004  2005  2006  2007  2008  ...  2014  2015  2016 2017  2018  \\\n",
       "0      ..    ..  12.7   6.8   8.7  26.4  ...   4.7  -0.7   4.4  5.0   0.6   \n",
       "1     0.5   2.3   2.4   2.4   2.9   3.3  ...   1.6   1.9   1.3  2.0   2.0   \n",
       "2     4.3   4.0   1.4   2.3   3.7   4.9  ...   2.9   4.8   6.4  5.6   4.3   \n",
       "3      ..    ..    ..    ..    ..    ..  ...    ..    ..    ..   ..    ..   \n",
       "4      ..    ..    ..    ..    ..    ..  ...    ..    ..    ..   ..    ..   \n",
       "..    ...   ...   ...   ...   ...   ...  ...   ...   ...   ...  ...   ...   \n",
       "213   4.4   3.0   4.1   3.8   1.9   9.9  ...   1.7   1.4  -0.2  0.2  -0.2   \n",
       "214  10.8  12.5  11.8  10.8   7.9  19.0  ...   8.1    ..    ..   ..    ..   \n",
       "215  21.4  18.0  18.3   9.0  10.7  12.4  ...   7.8  10.1  17.9  6.6   7.5   \n",
       "216    ..    ..    ..    ..    ..    ..  ...  -0.2  -2.4  -1.5  0.9  10.6   \n",
       "217   NaN   NaN   NaN   NaN   NaN   NaN  ...   NaN   NaN   NaN  NaN   NaN   \n",
       "\n",
       "      2019   2020  2021   2022 2023  \n",
       "0      2.3     ..    ..     ..   ..  \n",
       "1      1.4    1.6   2.0    6.7   ..  \n",
       "2      2.0    2.4   7.2    9.3   ..  \n",
       "3       ..     ..    ..     ..   ..  \n",
       "4       ..     ..    ..     ..   ..  \n",
       "..     ...    ...   ...    ...  ...  \n",
       "213    1.6   -0.7   1.2    3.7   ..  \n",
       "214     ..     ..    ..     ..   ..  \n",
       "215    9.2   15.7  22.0   11.0   ..  \n",
       "216  255.3  557.2  98.5  104.7   ..  \n",
       "217    NaN    NaN   NaN    NaN  NaN  \n",
       "\n",
       "[218 rows x 26 columns]>"
      ]
     },
     "execution_count": 6,
     "metadata": {},
     "output_type": "execute_result"
    }
   ],
   "source": [
    "df.tail"
   ]
  },
  {
   "cell_type": "code",
   "execution_count": 7,
   "id": "8bc95bcb-d62b-42ab-b9cf-7d08537f7d08",
   "metadata": {},
   "outputs": [],
   "source": [
    "df_inflation = df.copy()"
   ]
  },
  {
   "cell_type": "code",
   "execution_count": 8,
   "id": "2de3c30b-2edf-4e9a-8799-258875a55c4d",
   "metadata": {},
   "outputs": [
    {
     "data": {
      "text/plain": [
       "Country Name     False\n",
       "2000              True\n",
       "2001              True\n",
       "2002              True\n",
       "2003              True\n",
       "2004              True\n",
       "2005              True\n",
       "2006              True\n",
       "2007              True\n",
       "2008              True\n",
       "2009              True\n",
       "Unnamed: 11       True\n",
       "2010              True\n",
       "2011              True\n",
       "2012              True\n",
       "2013              True\n",
       "2014              True\n",
       "2015              True\n",
       "2016              True\n",
       "2017              True\n",
       "2018              True\n",
       "2019              True\n",
       "2020              True\n",
       "2021              True\n",
       "2022              True\n",
       "2023              True\n",
       "dtype: bool"
      ]
     },
     "execution_count": 8,
     "metadata": {},
     "output_type": "execute_result"
    }
   ],
   "source": [
    "df_inflation.isnull().any()"
   ]
  },
  {
   "cell_type": "code",
   "execution_count": 9,
   "id": "05334de9-cf35-4f85-bb7d-2ff0c0a8dc28",
   "metadata": {},
   "outputs": [
    {
     "data": {
      "text/plain": [
       "Index(['Country Name ', '2000', '2001', '2002', '2003', '2004', '2005', '2006',\n",
       "       '2007', '2008', '2009', 'Unnamed: 11', '2010', '2011', '2012', '2013',\n",
       "       '2014', '2015', '2016', '2017', '2018', '2019', '2020', '2021', '2022',\n",
       "       '2023'],\n",
       "      dtype='object')"
      ]
     },
     "execution_count": 9,
     "metadata": {},
     "output_type": "execute_result"
    }
   ],
   "source": [
    "df_inflation.columns"
   ]
  },
  {
   "cell_type": "code",
   "execution_count": 10,
   "id": "42aba5ab-46a7-4ad9-a023-28da0c53f0ae",
   "metadata": {},
   "outputs": [
    {
     "name": "stdout",
     "output_type": "stream",
     "text": [
      "0     NaN\n",
      "1     NaN\n",
      "2     NaN\n",
      "3     NaN\n",
      "4     NaN\n",
      "       ..\n",
      "213   NaN\n",
      "214   NaN\n",
      "215   NaN\n",
      "216   NaN\n",
      "217   NaN\n",
      "Name: Unnamed: 11, Length: 218, dtype: float64\n"
     ]
    }
   ],
   "source": [
    "print(df_inflation['Unnamed: 11'])"
   ]
  },
  {
   "cell_type": "code",
   "execution_count": 11,
   "id": "2a0b377c-8f90-4c5b-848d-bb7be9bd64a0",
   "metadata": {},
   "outputs": [],
   "source": [
    "#The Unnamed: 11 column has not values so we need to drop it\n",
    "df_inflation.drop('Unnamed: 11', axis =1, inplace =True)"
   ]
  },
  {
   "cell_type": "code",
   "execution_count": 12,
   "id": "0ff3da14-3b57-4137-b1d2-1042003abba5",
   "metadata": {},
   "outputs": [
    {
     "data": {
      "text/plain": [
       "Index(['Country Name ', '2000', '2001', '2002', '2003', '2004', '2005', '2006',\n",
       "       '2007', '2008', '2009', '2010', '2011', '2012', '2013', '2014', '2015',\n",
       "       '2016', '2017', '2018', '2019', '2020', '2021', '2022', '2023'],\n",
       "      dtype='object')"
      ]
     },
     "execution_count": 12,
     "metadata": {},
     "output_type": "execute_result"
    }
   ],
   "source": [
    "df_inflation.columns"
   ]
  },
  {
   "cell_type": "code",
   "execution_count": 13,
   "id": "552e696e-8ab0-430a-92f8-24c457550473",
   "metadata": {},
   "outputs": [
    {
     "name": "stdout",
     "output_type": "stream",
     "text": [
      "  Country Name  2000 2001 2002 2003 2004  2005 2006 2007  2008  ... 2014  \\\n",
      "0   Afghanistan   ..   ..   ..   ..   ..  12.7  6.8  8.7  26.4  ...  4.7   \n",
      "\n",
      "   2015 2016 2017 2018 2019 2020 2021 2022 2023  \n",
      "0  -0.7  4.4  5.0  0.6  2.3   ..   ..   ..   ..  \n",
      "\n",
      "[1 rows x 25 columns]\n"
     ]
    }
   ],
   "source": [
    "print(df_inflation[df_inflation['Country Name ']=='Afghanistan'])"
   ]
  },
  {
   "cell_type": "code",
   "execution_count": 14,
   "id": "09411442-9f7b-4644-8f82-8a8329ee9018",
   "metadata": {},
   "outputs": [],
   "source": [
    "Af = df_inflation.loc[0]"
   ]
  },
  {
   "cell_type": "code",
   "execution_count": 15,
   "id": "1bad390b-5db3-4af3-9b85-d76ac8b4d9e2",
   "metadata": {},
   "outputs": [
    {
     "name": "stdout",
     "output_type": "stream",
     "text": [
      "2000      ..\n",
      "2001      ..\n",
      "2002      ..\n",
      "2003      ..\n",
      "2004      ..\n",
      "2005    12.7\n",
      "2006     6.8\n",
      "2007     8.7\n",
      "2008    26.4\n",
      "2009    -6.8\n",
      "2010     2.2\n",
      "Name: 0, dtype: object\n"
     ]
    }
   ],
   "source": [
    "Af1 = Af[1:12]\n",
    "Af2 = Af[13:24]\n",
    "print(Af1)"
   ]
  },
  {
   "cell_type": "code",
   "execution_count": 16,
   "id": "8eefc710-5d9d-409d-857f-9fd4f54f9b0b",
   "metadata": {},
   "outputs": [
    {
     "data": {
      "text/plain": [
       "<Axes: ylabel='0'>"
      ]
     },
     "execution_count": 16,
     "metadata": {},
     "output_type": "execute_result"
    },
    {
     "data": {
      "image/png": "[encoded data removed]",
      "text/plain": [
       "<Figure size 640x480 with 1 Axes>"
      ]
     },
     "metadata": {},
     "output_type": "display_data"
    }
   ],
   "source": [
    "sns.scatterplot(Af1)"
   ]
  },
  {
   "cell_type": "code",
   "execution_count": 17,
   "id": "0712cdb1-6ec0-4b98-b5bd-d33ab3f78334",
   "metadata": {},
   "outputs": [
    {
     "name": "stderr",
     "output_type": "stream",
     "text": [
      "C:\\Users\\Sina\\anaconda3\\Lib\\site-packages\\seaborn\\_oldcore.py:1119: FutureWarning: use_inf_as_na option is deprecated and will be removed in a future version. Convert inf values to NaN before operating instead.\n",
      "  with pd.option_context('mode.use_inf_as_na', True):\n",
      "C:\\Users\\Sina\\anaconda3\\Lib\\site-packages\\seaborn\\_oldcore.py:1119: FutureWarning: use_inf_as_na option is deprecated and will be removed in a future version. Convert inf values to NaN before operating instead.\n",
      "  with pd.option_context('mode.use_inf_as_na', True):\n"
     ]
    },
    {
     "data": {
      "text/plain": [
       "<Axes: ylabel='0'>"
      ]
     },
     "execution_count": 17,
     "metadata": {},
     "output_type": "execute_result"
    },
    {
     "data": {
      "image/png": "[encoded data removed]",
      "text/plain": [
       "<Figure size 640x480 with 1 Axes>"
      ]
     },
     "metadata": {},
     "output_type": "display_data"
    }
   ],
   "source": [
    "sns.lineplot(Af2)"
   ]
  },
  {
   "cell_type": "code",
   "execution_count": 18,
   "id": "fd9ff98d-8aa3-434f-9b4e-10f4580910c4",
   "metadata": {},
   "outputs": [
    {
     "name": "stdout",
     "output_type": "stream",
     "text": [
      "    Country Name  2000 2001 2002 2003 2004 2005 2006 2007 2008  ... 2014 2015  \\\n",
      "175       Somalia   ..   ..   ..   ..   ..   ..   ..   ..   ..  ...   ..   ..   \n",
      "\n",
      "    2016 2017 2018 2019 2020 2021 2022 2023  \n",
      "175   ..   ..   ..   ..   ..   ..   ..   ..  \n",
      "\n",
      "[1 rows x 25 columns]\n"
     ]
    }
   ],
   "source": [
    "print(df_inflation[df_inflation['Country Name ']=='Somalia'])"
   ]
  },
  {
   "cell_type": "code",
   "execution_count": 21,
   "id": "f9afefa6-42c8-47d1-863b-1ee540b27368",
   "metadata": {},
   "outputs": [
    {
     "name": "stdout",
     "output_type": "stream",
     "text": [
      "Country Name     Somalia\n",
      "2000                  ..\n",
      "2001                  ..\n",
      "2002                  ..\n",
      "2003                  ..\n",
      "2004                  ..\n",
      "2005                  ..\n",
      "2006                  ..\n",
      "2007                  ..\n",
      "2008                  ..\n",
      "2009                  ..\n",
      "2010                  ..\n",
      "2011                  ..\n",
      "2012                  ..\n",
      "2013                  ..\n",
      "2014                  ..\n",
      "2015                  ..\n",
      "2016                  ..\n",
      "2017                  ..\n",
      "2018                  ..\n",
      "2019                  ..\n",
      "2020                  ..\n",
      "2021                  ..\n",
      "2022                  ..\n",
      "2023                  ..\n",
      "Name: 175, dtype: object\n"
     ]
    }
   ],
   "source": [
    "Som = df_inflation.loc[175]\n",
    "print(Som)"
   ]
  },
  {
   "cell_type": "code",
   "execution_count": 23,
   "id": "32353215-5a4c-4d38-b5e9-87c16043c110",
   "metadata": {},
   "outputs": [
    {
     "data": {
      "text/plain": [
       "<Axes: ylabel='175'>"
      ]
     },
     "execution_count": 23,
     "metadata": {},
     "output_type": "execute_result"
    },
    {
     "data": {
      "image/png": "[encoded data removed]",
      "text/plain": [
       "<Figure size 640x480 with 1 Axes>"
      ]
     },
     "metadata": {},
     "output_type": "display_data"
    }
   ],
   "source": [
    "sns.scatterplot(Som)"
   ]
  },
  {
   "cell_type": "code",
   "execution_count": 35,
   "id": "2a052940-6b2f-4833-a21c-8d874c9b0efe",
   "metadata": {},
   "outputs": [],
   "source": [
    "df2 =pd.read_csv('Inflation2.csv', encoding= 'Latin-1')"
   ]
  },
  {
   "cell_type": "code",
   "execution_count": 36,
   "id": "c0a4e55f-a9e4-4f86-b2e6-b37c13580945",
   "metadata": {},
   "outputs": [
    {
     "data": {
      "text/plain": [
       "Index(['Country Name', '1980', '1981', '1982', '1983', '1984', '1985', '1986',\n",
       "       '1987', '1988', '1989', '1990', '1991', '1992', '1993', '1994', '1995',\n",
       "       '1996', '1997', '1998', '1999', '2000', '2001', '2002', '2003', '2004',\n",
       "       '2005', '2006', '2007', '2008', '2009', '2010', '2011', '2012', '2013',\n",
       "       '2014', '2015', '2016', '2017', '2018', '2019', '2020', '2021', '2022',\n",
       "       '2023', '2024', '2025', '2026', '2027', '2028', '2029'],\n",
       "      dtype='object')"
      ]
     },
     "execution_count": 36,
     "metadata": {},
     "output_type": "execute_result"
    }
   ],
   "source": [
    "df2.columns"
   ]
  },
  {
   "cell_type": "code",
   "execution_count": 37,
   "id": "2c6afa5d-61e3-40bb-ac99-bb78b991d6cb",
   "metadata": {},
   "outputs": [],
   "source": [
    "df_inf = df2.copy()"
   ]
  },
  {
   "cell_type": "code",
   "execution_count": 38,
   "id": "59fdebb7-9f68-4125-96a3-1de67aaec4c0",
   "metadata": {},
   "outputs": [
    {
     "name": "stdout",
     "output_type": "stream",
     "text": [
      "    Country Name     1980     1981     1982     1983     1984     1985  \\\n",
      "159      Somalia  no data  no data  no data  no data  no data  no data   \n",
      "\n",
      "        1986     1987     1988  ... 2020 2021 2022 2023 2024 2025 2026 2027  \\\n",
      "159  no data  no data  no data  ...  4.8  5.7  6.1  6.6  4.3  3.7  3.5  3.3   \n",
      "\n",
      "    2028 2029  \n",
      "159  3.1  2.6  \n",
      "\n",
      "[1 rows x 51 columns]\n"
     ]
    }
   ],
   "source": [
    "print(df_inf[df_inf['Country Name']=='Somalia'])"
   ]
  },
  {
   "cell_type": "code",
   "execution_count": 44,
   "id": "ff88ef17-1b98-4e62-b5f3-8f5627039e3f",
   "metadata": {},
   "outputs": [
    {
     "data": {
      "text/plain": [
       "(51,)"
      ]
     },
     "execution_count": 44,
     "metadata": {},
     "output_type": "execute_result"
    }
   ],
   "source": [
    "som = df_inf.loc[159]\n",
    "som.shape"
   ]
  },
  {
   "cell_type": "code",
   "execution_count": 45,
   "id": "b9e491a4-8bf5-4d3f-83d5-d506f65aa160",
   "metadata": {},
   "outputs": [
    {
     "name": "stdout",
     "output_type": "stream",
     "text": [
      "Country Name    Somalia\n",
      "1980            no data\n",
      "1981            no data\n",
      "1982            no data\n",
      "1983            no data\n",
      "1984            no data\n",
      "1985            no data\n",
      "1986            no data\n",
      "1987            no data\n",
      "1988            no data\n",
      "1989            no data\n",
      "1990            no data\n",
      "1991            no data\n",
      "1992            no data\n",
      "1993            no data\n",
      "1994            no data\n",
      "1995            no data\n",
      "1996            no data\n",
      "1997            no data\n",
      "1998            no data\n",
      "1999            no data\n",
      "2000            no data\n",
      "2001            no data\n",
      "2002            no data\n",
      "2003            no data\n",
      "2004            no data\n",
      "2005            no data\n",
      "2006            no data\n",
      "2007            no data\n",
      "2008            no data\n",
      "2009            no data\n",
      "2010            no data\n",
      "2011            no data\n",
      "2012            no data\n",
      "2013                2.8\n",
      "2014                1.3\n",
      "2015                0.3\n",
      "2016                1.2\n",
      "2017                6.1\n",
      "2018                3.2\n",
      "2019                3.1\n",
      "2020                4.8\n",
      "2021                5.7\n",
      "2022                6.1\n",
      "2023                6.6\n",
      "2024                4.3\n",
      "2025                3.7\n",
      "2026                3.5\n",
      "2027                3.3\n",
      "2028                3.1\n",
      "2029                2.6\n",
      "Name: 159, dtype: object\n"
     ]
    }
   ],
   "source": [
    "print(som)"
   ]
  },
  {
   "cell_type": "code",
   "execution_count": 47,
   "id": "e65cec1d-3482-4749-8694-97fef907a4bc",
   "metadata": {},
   "outputs": [
    {
     "name": "stdout",
     "output_type": "stream",
     "text": [
      "2013    2.8\n",
      "2014    1.3\n",
      "2015    0.3\n",
      "2016    1.2\n",
      "2017    6.1\n",
      "2018    3.2\n",
      "2019    3.1\n",
      "2020    4.8\n",
      "2021    5.7\n",
      "2022    6.1\n",
      "2023    6.6\n",
      "2024    4.3\n",
      "Name: 159, dtype: object\n"
     ]
    }
   ],
   "source": [
    "print(som[34:46])"
   ]
  },
  {
   "cell_type": "code",
   "execution_count": 48,
   "id": "44b8d05f-5dd5-4c58-87de-dfe5c3b544df",
   "metadata": {},
   "outputs": [],
   "source": [
    "SOM = som[34:46]"
   ]
  },
  {
   "cell_type": "code",
   "execution_count": 50,
   "id": "ceef41c7-9848-4979-9468-4ad4c70cbc1b",
   "metadata": {},
   "outputs": [
    {
     "name": "stderr",
     "output_type": "stream",
     "text": [
      "C:\\Users\\Sina\\anaconda3\\Lib\\site-packages\\seaborn\\_oldcore.py:1119: FutureWarning: use_inf_as_na option is deprecated and will be removed in a future version. Convert inf values to NaN before operating instead.\n",
      "  with pd.option_context('mode.use_inf_as_na', True):\n",
      "C:\\Users\\Sina\\anaconda3\\Lib\\site-packages\\seaborn\\_oldcore.py:1119: FutureWarning: use_inf_as_na option is deprecated and will be removed in a future version. Convert inf values to NaN before operating instead.\n",
      "  with pd.option_context('mode.use_inf_as_na', True):\n"
     ]
    },
    {
     "data": {
      "text/plain": [
       "<Axes: ylabel='159'>"
      ]
     },
     "execution_count": 50,
     "metadata": {},
     "output_type": "execute_result"
    },
    {
     "data": {
      "image/png": "[encoded data removed]",
      "text/plain": [
       "<Figure size 640x480 with 1 Axes>"
      ]
     },
     "metadata": {},
     "output_type": "display_data"
    }
   ],
   "source": [
    "sns.lineplot(SOM)"
   ]
  },
  {
   "cell_type": "code",
   "execution_count": null,
   "id": "189ca688-d3ba-4130-9ed9-a8fc64f0a709",
   "metadata": {},
   "outputs": [],
   "source": []
  }
 ],
 "metadata": {
  "kernelspec": {
   "display_name": "Python 3 (ipykernel)",
   "language": "python",
   "name": "python3"
  },
  "language_info": {
   "codemirror_mode": {
    "name": "ipython",
    "version": 3
   },
   "file_extension": ".py",
   "mimetype": "text/x-python",
   "name": "python",
   "nbconvert_exporter": "python",
   "pygments_lexer": "ipython3",
   "version": "3.11.7"
  }
 },
 "nbformat": 4,
 "nbformat_minor": 5
}
