{
 "cells": [
  {
   "cell_type": "code",
   "execution_count": 6,
   "metadata": {},
   "outputs": [],
   "source": [
    "import pandas as pd\n",
    "import matplotlib.pyplot as plt\n",
    "import seaborn as sns"
   ]
  },
  {
   "cell_type": "code",
   "execution_count": 8,
   "metadata": {},
   "outputs": [],
   "source": [
    "df = pd.read_csv('Afghani-Kabul.csv')"
   ]
  },
  {
   "cell_type": "code",
   "execution_count": 9,
   "metadata": {},
   "outputs": [
    {
     "data": {
      "text/html": [
       "<div>\n",
       "<style scoped>\n",
       "    .dataframe tbody tr th:only-of-type {\n",
       "        vertical-align: middle;\n",
       "    }\n",
       "\n",
       "    .dataframe tbody tr th {\n",
       "        vertical-align: top;\n",
       "    }\n",
       "\n",
       "    .dataframe thead th {\n",
       "        text-align: right;\n",
       "    }\n",
       "</style>\n",
       "<table border=\"1\" class=\"dataframe\">\n",
       "  <thead>\n",
       "    <tr style=\"text-align: right;\">\n",
       "      <th></th>\n",
       "      <th>ISO3</th>\n",
       "      <th>country</th>\n",
       "      <th>adm1_name</th>\n",
       "      <th>adm2_name</th>\n",
       "      <th>mkt_name</th>\n",
       "      <th>lat</th>\n",
       "      <th>lon</th>\n",
       "      <th>geo_id</th>\n",
       "      <th>price_date</th>\n",
       "      <th>year</th>\n",
       "      <th>...</th>\n",
       "      <th>l_wage_non_qualified_labour_non_agricultural</th>\n",
       "      <th>c_wage_non_qualified_labour_non_agricultural</th>\n",
       "      <th>inflation_wage_non_qualified_labour_non_agricultural</th>\n",
       "      <th>trust_wage_non_qualified_labour_non_agricultural</th>\n",
       "      <th>o_wage_qualified_labour</th>\n",
       "      <th>h_wage_qualified_labour</th>\n",
       "      <th>l_wage_qualified_labour</th>\n",
       "      <th>c_wage_qualified_labour</th>\n",
       "      <th>inflation_wage_qualified_labour</th>\n",
       "      <th>trust_wage_qualified_labour</th>\n",
       "    </tr>\n",
       "  </thead>\n",
       "  <tbody>\n",
       "    <tr>\n",
       "      <th>0</th>\n",
       "      <td>AFG</td>\n",
       "      <td>Afghanistan</td>\n",
       "      <td>Kabul</td>\n",
       "      <td>Kabul</td>\n",
       "      <td>Kabul</td>\n",
       "      <td>34.516667</td>\n",
       "      <td>69.183333</td>\n",
       "      <td>gid_345166670691833330</td>\n",
       "      <td>1/1/2007</td>\n",
       "      <td>2007</td>\n",
       "      <td>...</td>\n",
       "      <td>250.89</td>\n",
       "      <td>253.23</td>\n",
       "      <td>NaN</td>\n",
       "      <td>9.6</td>\n",
       "      <td>1432.53</td>\n",
       "      <td>1446.46</td>\n",
       "      <td>1416.69</td>\n",
       "      <td>1432.39</td>\n",
       "      <td>NaN</td>\n",
       "      <td>9.7</td>\n",
       "    </tr>\n",
       "    <tr>\n",
       "      <th>1</th>\n",
       "      <td>AFG</td>\n",
       "      <td>Afghanistan</td>\n",
       "      <td>Kabul</td>\n",
       "      <td>Kabul</td>\n",
       "      <td>Kabul</td>\n",
       "      <td>34.516667</td>\n",
       "      <td>69.183333</td>\n",
       "      <td>gid_345166670691833330</td>\n",
       "      <td>2/1/2007</td>\n",
       "      <td>2007</td>\n",
       "      <td>...</td>\n",
       "      <td>250.91</td>\n",
       "      <td>252.30</td>\n",
       "      <td>NaN</td>\n",
       "      <td>9.6</td>\n",
       "      <td>1431.43</td>\n",
       "      <td>1455.20</td>\n",
       "      <td>1416.55</td>\n",
       "      <td>1455.20</td>\n",
       "      <td>NaN</td>\n",
       "      <td>9.7</td>\n",
       "    </tr>\n",
       "    <tr>\n",
       "      <th>2</th>\n",
       "      <td>AFG</td>\n",
       "      <td>Afghanistan</td>\n",
       "      <td>Kabul</td>\n",
       "      <td>Kabul</td>\n",
       "      <td>Kabul</td>\n",
       "      <td>34.516667</td>\n",
       "      <td>69.183333</td>\n",
       "      <td>gid_345166670691833330</td>\n",
       "      <td>3/1/2007</td>\n",
       "      <td>2007</td>\n",
       "      <td>...</td>\n",
       "      <td>250.48</td>\n",
       "      <td>253.28</td>\n",
       "      <td>NaN</td>\n",
       "      <td>9.6</td>\n",
       "      <td>1462.14</td>\n",
       "      <td>1475.35</td>\n",
       "      <td>1433.80</td>\n",
       "      <td>1433.80</td>\n",
       "      <td>NaN</td>\n",
       "      <td>9.7</td>\n",
       "    </tr>\n",
       "    <tr>\n",
       "      <th>3</th>\n",
       "      <td>AFG</td>\n",
       "      <td>Afghanistan</td>\n",
       "      <td>Kabul</td>\n",
       "      <td>Kabul</td>\n",
       "      <td>Kabul</td>\n",
       "      <td>34.516667</td>\n",
       "      <td>69.183333</td>\n",
       "      <td>gid_345166670691833330</td>\n",
       "      <td>4/1/2007</td>\n",
       "      <td>2007</td>\n",
       "      <td>...</td>\n",
       "      <td>252.38</td>\n",
       "      <td>254.62</td>\n",
       "      <td>NaN</td>\n",
       "      <td>9.6</td>\n",
       "      <td>1427.48</td>\n",
       "      <td>1439.61</td>\n",
       "      <td>1386.36</td>\n",
       "      <td>1386.36</td>\n",
       "      <td>NaN</td>\n",
       "      <td>9.7</td>\n",
       "    </tr>\n",
       "    <tr>\n",
       "      <th>4</th>\n",
       "      <td>AFG</td>\n",
       "      <td>Afghanistan</td>\n",
       "      <td>Kabul</td>\n",
       "      <td>Kabul</td>\n",
       "      <td>Kabul</td>\n",
       "      <td>34.516667</td>\n",
       "      <td>69.183333</td>\n",
       "      <td>gid_345166670691833330</td>\n",
       "      <td>5/1/2007</td>\n",
       "      <td>2007</td>\n",
       "      <td>...</td>\n",
       "      <td>253.52</td>\n",
       "      <td>258.59</td>\n",
       "      <td>NaN</td>\n",
       "      <td>9.6</td>\n",
       "      <td>1372.64</td>\n",
       "      <td>1385.40</td>\n",
       "      <td>1341.78</td>\n",
       "      <td>1341.78</td>\n",
       "      <td>NaN</td>\n",
       "      <td>9.7</td>\n",
       "    </tr>\n",
       "  </tbody>\n",
       "</table>\n",
       "<p>5 rows × 33 columns</p>\n",
       "</div>"
      ],
      "text/plain": [
       "  ISO3      country adm1_name adm2_name mkt_name        lat        lon  \\\n",
       "0  AFG  Afghanistan     Kabul     Kabul    Kabul  34.516667  69.183333   \n",
       "1  AFG  Afghanistan     Kabul     Kabul    Kabul  34.516667  69.183333   \n",
       "2  AFG  Afghanistan     Kabul     Kabul    Kabul  34.516667  69.183333   \n",
       "3  AFG  Afghanistan     Kabul     Kabul    Kabul  34.516667  69.183333   \n",
       "4  AFG  Afghanistan     Kabul     Kabul    Kabul  34.516667  69.183333   \n",
       "\n",
       "                   geo_id price_date  year  ...  \\\n",
       "0  gid_345166670691833330   1/1/2007  2007  ...   \n",
       "1  gid_345166670691833330   2/1/2007  2007  ...   \n",
       "2  gid_345166670691833330   3/1/2007  2007  ...   \n",
       "3  gid_345166670691833330   4/1/2007  2007  ...   \n",
       "4  gid_345166670691833330   5/1/2007  2007  ...   \n",
       "\n",
       "   l_wage_non_qualified_labour_non_agricultural  \\\n",
       "0                                        250.89   \n",
       "1                                        250.91   \n",
       "2                                        250.48   \n",
       "3                                        252.38   \n",
       "4                                        253.52   \n",
       "\n",
       "  c_wage_non_qualified_labour_non_agricultural  \\\n",
       "0                                       253.23   \n",
       "1                                       252.30   \n",
       "2                                       253.28   \n",
       "3                                       254.62   \n",
       "4                                       258.59   \n",
       "\n",
       "   inflation_wage_non_qualified_labour_non_agricultural  \\\n",
       "0                                                NaN      \n",
       "1                                                NaN      \n",
       "2                                                NaN      \n",
       "3                                                NaN      \n",
       "4                                                NaN      \n",
       "\n",
       "   trust_wage_non_qualified_labour_non_agricultural  o_wage_qualified_labour  \\\n",
       "0                                               9.6                  1432.53   \n",
       "1                                               9.6                  1431.43   \n",
       "2                                               9.6                  1462.14   \n",
       "3                                               9.6                  1427.48   \n",
       "4                                               9.6                  1372.64   \n",
       "\n",
       "   h_wage_qualified_labour  l_wage_qualified_labour  c_wage_qualified_labour  \\\n",
       "0                  1446.46                  1416.69                  1432.39   \n",
       "1                  1455.20                  1416.55                  1455.20   \n",
       "2                  1475.35                  1433.80                  1433.80   \n",
       "3                  1439.61                  1386.36                  1386.36   \n",
       "4                  1385.40                  1341.78                  1341.78   \n",
       "\n",
       "   inflation_wage_qualified_labour  trust_wage_qualified_labour  \n",
       "0                              NaN                          9.7  \n",
       "1                              NaN                          9.7  \n",
       "2                              NaN                          9.7  \n",
       "3                              NaN                          9.7  \n",
       "4                              NaN                          9.7  \n",
       "\n",
       "[5 rows x 33 columns]"
      ]
     },
     "execution_count": 9,
     "metadata": {},
     "output_type": "execute_result"
    }
   ],
   "source": [
    "df.head()"
   ]
  },
  {
   "cell_type": "code",
   "execution_count": 10,
   "metadata": {},
   "outputs": [
    {
     "data": {
      "text/html": [
       "<div>\n",
       "<style scoped>\n",
       "    .dataframe tbody tr th:only-of-type {\n",
       "        vertical-align: middle;\n",
       "    }\n",
       "\n",
       "    .dataframe tbody tr th {\n",
       "        vertical-align: top;\n",
       "    }\n",
       "\n",
       "    .dataframe thead th {\n",
       "        text-align: right;\n",
       "    }\n",
       "</style>\n",
       "<table border=\"1\" class=\"dataframe\">\n",
       "  <thead>\n",
       "    <tr style=\"text-align: right;\">\n",
       "      <th></th>\n",
       "      <th>ISO3</th>\n",
       "      <th>country</th>\n",
       "      <th>adm1_name</th>\n",
       "      <th>adm2_name</th>\n",
       "      <th>mkt_name</th>\n",
       "      <th>lat</th>\n",
       "      <th>lon</th>\n",
       "      <th>geo_id</th>\n",
       "      <th>price_date</th>\n",
       "      <th>year</th>\n",
       "      <th>...</th>\n",
       "      <th>l_wage_non_qualified_labour_non_agricultural</th>\n",
       "      <th>c_wage_non_qualified_labour_non_agricultural</th>\n",
       "      <th>inflation_wage_non_qualified_labour_non_agricultural</th>\n",
       "      <th>trust_wage_non_qualified_labour_non_agricultural</th>\n",
       "      <th>o_wage_qualified_labour</th>\n",
       "      <th>h_wage_qualified_labour</th>\n",
       "      <th>l_wage_qualified_labour</th>\n",
       "      <th>c_wage_qualified_labour</th>\n",
       "      <th>inflation_wage_qualified_labour</th>\n",
       "      <th>trust_wage_qualified_labour</th>\n",
       "    </tr>\n",
       "  </thead>\n",
       "  <tbody>\n",
       "    <tr>\n",
       "      <th>202</th>\n",
       "      <td>AFG</td>\n",
       "      <td>Afghanistan</td>\n",
       "      <td>Kabul</td>\n",
       "      <td>Kabul</td>\n",
       "      <td>Kabul</td>\n",
       "      <td>34.516667</td>\n",
       "      <td>69.183333</td>\n",
       "      <td>gid_345166670691833330</td>\n",
       "      <td>11/1/2023</td>\n",
       "      <td>2023</td>\n",
       "      <td>...</td>\n",
       "      <td>398.59</td>\n",
       "      <td>400.0</td>\n",
       "      <td>14.29</td>\n",
       "      <td>9.9</td>\n",
       "      <td>800.13</td>\n",
       "      <td>808.23</td>\n",
       "      <td>792.04</td>\n",
       "      <td>800.0</td>\n",
       "      <td>14.29</td>\n",
       "      <td>9.9</td>\n",
       "    </tr>\n",
       "    <tr>\n",
       "      <th>203</th>\n",
       "      <td>AFG</td>\n",
       "      <td>Afghanistan</td>\n",
       "      <td>Kabul</td>\n",
       "      <td>Kabul</td>\n",
       "      <td>Kabul</td>\n",
       "      <td>34.516667</td>\n",
       "      <td>69.183333</td>\n",
       "      <td>gid_345166670691833330</td>\n",
       "      <td>12/1/2023</td>\n",
       "      <td>2023</td>\n",
       "      <td>...</td>\n",
       "      <td>398.62</td>\n",
       "      <td>400.0</td>\n",
       "      <td>14.29</td>\n",
       "      <td>9.9</td>\n",
       "      <td>800.18</td>\n",
       "      <td>806.73</td>\n",
       "      <td>793.64</td>\n",
       "      <td>800.0</td>\n",
       "      <td>14.29</td>\n",
       "      <td>9.9</td>\n",
       "    </tr>\n",
       "    <tr>\n",
       "      <th>204</th>\n",
       "      <td>AFG</td>\n",
       "      <td>Afghanistan</td>\n",
       "      <td>Kabul</td>\n",
       "      <td>Kabul</td>\n",
       "      <td>Kabul</td>\n",
       "      <td>34.516667</td>\n",
       "      <td>69.183333</td>\n",
       "      <td>gid_345166670691833330</td>\n",
       "      <td>1/1/2024</td>\n",
       "      <td>2024</td>\n",
       "      <td>...</td>\n",
       "      <td>398.61</td>\n",
       "      <td>400.0</td>\n",
       "      <td>3.57</td>\n",
       "      <td>9.9</td>\n",
       "      <td>799.93</td>\n",
       "      <td>805.32</td>\n",
       "      <td>794.54</td>\n",
       "      <td>800.0</td>\n",
       "      <td>6.91</td>\n",
       "      <td>9.9</td>\n",
       "    </tr>\n",
       "    <tr>\n",
       "      <th>205</th>\n",
       "      <td>AFG</td>\n",
       "      <td>Afghanistan</td>\n",
       "      <td>Kabul</td>\n",
       "      <td>Kabul</td>\n",
       "      <td>Kabul</td>\n",
       "      <td>34.516667</td>\n",
       "      <td>69.183333</td>\n",
       "      <td>gid_345166670691833330</td>\n",
       "      <td>2/1/2024</td>\n",
       "      <td>2024</td>\n",
       "      <td>...</td>\n",
       "      <td>398.64</td>\n",
       "      <td>400.0</td>\n",
       "      <td>3.96</td>\n",
       "      <td>9.9</td>\n",
       "      <td>799.79</td>\n",
       "      <td>804.35</td>\n",
       "      <td>795.24</td>\n",
       "      <td>800.0</td>\n",
       "      <td>13.89</td>\n",
       "      <td>9.9</td>\n",
       "    </tr>\n",
       "    <tr>\n",
       "      <th>206</th>\n",
       "      <td>AFG</td>\n",
       "      <td>Afghanistan</td>\n",
       "      <td>Kabul</td>\n",
       "      <td>Kabul</td>\n",
       "      <td>Kabul</td>\n",
       "      <td>34.516667</td>\n",
       "      <td>69.183333</td>\n",
       "      <td>gid_345166670691833330</td>\n",
       "      <td>3/1/2024</td>\n",
       "      <td>2024</td>\n",
       "      <td>...</td>\n",
       "      <td>398.81</td>\n",
       "      <td>400.0</td>\n",
       "      <td>3.75</td>\n",
       "      <td>9.9</td>\n",
       "      <td>800.22</td>\n",
       "      <td>804.18</td>\n",
       "      <td>796.25</td>\n",
       "      <td>800.0</td>\n",
       "      <td>18.23</td>\n",
       "      <td>9.9</td>\n",
       "    </tr>\n",
       "  </tbody>\n",
       "</table>\n",
       "<p>5 rows × 33 columns</p>\n",
       "</div>"
      ],
      "text/plain": [
       "    ISO3      country adm1_name adm2_name mkt_name        lat        lon  \\\n",
       "202  AFG  Afghanistan     Kabul     Kabul    Kabul  34.516667  69.183333   \n",
       "203  AFG  Afghanistan     Kabul     Kabul    Kabul  34.516667  69.183333   \n",
       "204  AFG  Afghanistan     Kabul     Kabul    Kabul  34.516667  69.183333   \n",
       "205  AFG  Afghanistan     Kabul     Kabul    Kabul  34.516667  69.183333   \n",
       "206  AFG  Afghanistan     Kabul     Kabul    Kabul  34.516667  69.183333   \n",
       "\n",
       "                     geo_id price_date  year  ...  \\\n",
       "202  gid_345166670691833330  11/1/2023  2023  ...   \n",
       "203  gid_345166670691833330  12/1/2023  2023  ...   \n",
       "204  gid_345166670691833330   1/1/2024  2024  ...   \n",
       "205  gid_345166670691833330   2/1/2024  2024  ...   \n",
       "206  gid_345166670691833330   3/1/2024  2024  ...   \n",
       "\n",
       "     l_wage_non_qualified_labour_non_agricultural  \\\n",
       "202                                        398.59   \n",
       "203                                        398.62   \n",
       "204                                        398.61   \n",
       "205                                        398.64   \n",
       "206                                        398.81   \n",
       "\n",
       "    c_wage_non_qualified_labour_non_agricultural  \\\n",
       "202                                        400.0   \n",
       "203                                        400.0   \n",
       "204                                        400.0   \n",
       "205                                        400.0   \n",
       "206                                        400.0   \n",
       "\n",
       "     inflation_wage_non_qualified_labour_non_agricultural  \\\n",
       "202                                              14.29      \n",
       "203                                              14.29      \n",
       "204                                               3.57      \n",
       "205                                               3.96      \n",
       "206                                               3.75      \n",
       "\n",
       "     trust_wage_non_qualified_labour_non_agricultural  \\\n",
       "202                                               9.9   \n",
       "203                                               9.9   \n",
       "204                                               9.9   \n",
       "205                                               9.9   \n",
       "206                                               9.9   \n",
       "\n",
       "     o_wage_qualified_labour  h_wage_qualified_labour  \\\n",
       "202                   800.13                   808.23   \n",
       "203                   800.18                   806.73   \n",
       "204                   799.93                   805.32   \n",
       "205                   799.79                   804.35   \n",
       "206                   800.22                   804.18   \n",
       "\n",
       "     l_wage_qualified_labour  c_wage_qualified_labour  \\\n",
       "202                   792.04                    800.0   \n",
       "203                   793.64                    800.0   \n",
       "204                   794.54                    800.0   \n",
       "205                   795.24                    800.0   \n",
       "206                   796.25                    800.0   \n",
       "\n",
       "     inflation_wage_qualified_labour  trust_wage_qualified_labour  \n",
       "202                            14.29                          9.9  \n",
       "203                            14.29                          9.9  \n",
       "204                             6.91                          9.9  \n",
       "205                            13.89                          9.9  \n",
       "206                            18.23                          9.9  \n",
       "\n",
       "[5 rows x 33 columns]"
      ]
     },
     "execution_count": 10,
     "metadata": {},
     "output_type": "execute_result"
    }
   ],
   "source": [
    "df.tail()"
   ]
  },
  {
   "cell_type": "code",
   "execution_count": 11,
   "metadata": {},
   "outputs": [
    {
     "data": {
      "text/plain": [
       "Index(['ISO3', 'country', 'adm1_name', 'adm2_name', 'mkt_name', 'lat', 'lon',\n",
       "       'geo_id', 'price_date', 'year', 'month', 'currency',\n",
       "       'exchange_rate_unofficial',\n",
       "       'wage_non_qualified_labour_non_agricultural', 'wage_qualified_labour',\n",
       "       'o_exchange_rate_unofficial', 'h_exchange_rate_unofficial',\n",
       "       'l_exchange_rate_unofficial', 'c_exchange_rate_unofficial',\n",
       "       'inflation_exchange_rate_unofficial', 'trust_exchange_rate_unofficial',\n",
       "       'o_wage_non_qualified_labour_non_agricultural',\n",
       "       'h_wage_non_qualified_labour_non_agricultural',\n",
       "       'l_wage_non_qualified_labour_non_agricultural',\n",
       "       'c_wage_non_qualified_labour_non_agricultural',\n",
       "       'inflation_wage_non_qualified_labour_non_agricultural',\n",
       "       'trust_wage_non_qualified_labour_non_agricultural',\n",
       "       'o_wage_qualified_labour', 'h_wage_qualified_labour',\n",
       "       'l_wage_qualified_labour', 'c_wage_qualified_labour',\n",
       "       'inflation_wage_qualified_labour', 'trust_wage_qualified_labour'],\n",
       "      dtype='object')"
      ]
     },
     "execution_count": 11,
     "metadata": {},
     "output_type": "execute_result"
    }
   ],
   "source": [
    "df.columns"
   ]
  },
  {
   "cell_type": "code",
   "execution_count": null,
   "metadata": {},
   "outputs": [],
   "source": [
    "Now we get to data visualization\n",
    "The following graph shows the exchnage rate of Afghani compared to USD"
   ]
  },
  {
   "cell_type": "code",
   "execution_count": 27,
   "metadata": {},
   "outputs": [
    {
     "data": {
      "image/png": "[encoded data removed]",
      "text/plain": [
       "<Figure size 640x480 with 1 Axes>"
      ]
     },
     "metadata": {},
     "output_type": "display_data"
    }
   ],
   "source": [
    "\n",
    "sns.scatterplot(data=df, x='year', y='o_exchange_rate_unofficial',)\n",
    "plt.title(\"exchange rate over the year\")\n",
    "plt.show()"
   ]
  },
  {
   "cell_type": "code",
   "execution_count": null,
   "metadata": {},
   "outputs": [],
   "source": [
    "To Evaluate data better we need maximum and mimimum values \n",
    "to see what factors effect exchange rate the most"
   ]
  },
  {
   "cell_type": "code",
   "execution_count": null,
   "metadata": {},
   "outputs": [],
   "source": [
    "Maximum Value"
   ]
  },
  {
   "cell_type": "code",
   "execution_count": 20,
   "metadata": {},
   "outputs": [
    {
     "data": {
      "text/plain": [
       "93.91"
      ]
     },
     "execution_count": 20,
     "metadata": {},
     "output_type": "execute_result"
    }
   ],
   "source": [
    "rate_over_years = df.o_exchange_rate_unofficial\n",
    "max(rate_over_years)"
   ]
  },
  {
   "cell_type": "code",
   "execution_count": null,
   "metadata": {},
   "outputs": [],
   "source": [
    "year for the maximum value"
   ]
  },
  {
   "cell_type": "code",
   "execution_count": 27,
   "metadata": {},
   "outputs": [
    {
     "name": "stdout",
     "output_type": "stream",
     "text": [
      "179    2021\n",
      "Name: year, dtype: int64\n"
     ]
    }
   ],
   "source": [
    "print(df.loc[df['o_exchange_rate_unofficial']==93.91, 'year'])"
   ]
  },
  {
   "cell_type": "code",
   "execution_count": 12,
   "metadata": {},
   "outputs": [
    {
     "name": "stdout",
     "output_type": "stream",
     "text": [
      "168    76.99\n",
      "169    77.00\n",
      "170    77.00\n",
      "171    77.01\n",
      "172    77.00\n",
      "173    77.94\n",
      "174    78.79\n",
      "175    81.20\n",
      "176    87.44\n",
      "177    86.37\n",
      "178    91.45\n",
      "179    93.91\n",
      "Name: o_exchange_rate_unofficial, dtype: float64\n"
     ]
    }
   ],
   "source": [
    "year_2021 = (df.loc[df['year']==2021, 'o_exchange_rate_unofficial'])\n",
    "print(year_2021)"
   ]
  },
  {
   "cell_type": "code",
   "execution_count": 24,
   "metadata": {},
   "outputs": [
    {
     "name": "stderr",
     "output_type": "stream",
     "text": [
      "C:\\Users\\Sina\\anaconda3\\Lib\\site-packages\\seaborn\\_oldcore.py:1119: FutureWarning: use_inf_as_na option is deprecated and will be removed in a future version. Convert inf values to NaN before operating instead.\n",
      "  with pd.option_context('mode.use_inf_as_na', True):\n",
      "C:\\Users\\Sina\\anaconda3\\Lib\\site-packages\\seaborn\\_oldcore.py:1119: FutureWarning: use_inf_as_na option is deprecated and will be removed in a future version. Convert inf values to NaN before operating instead.\n",
      "  with pd.option_context('mode.use_inf_as_na', True):\n"
     ]
    },
    {
     "data": {
      "image/png": "[encoded data removed]",
      "text/plain": [
       "<Figure size 640x480 with 1 Axes>"
      ]
     },
     "metadata": {},
     "output_type": "display_data"
    }
   ],
   "source": [
    "y = [1,2,3,4,5,6,7,8,9,10,11,12]\n",
    "sns.lineplot( x=y, y=year_2021,)\n",
    "plt.title(\"Max exchange rates\")\n",
    "plt.show()"
   ]
  },
  {
   "cell_type": "code",
   "execution_count": null,
   "metadata": {},
   "outputs": [],
   "source": []
  },
  {
   "cell_type": "code",
   "execution_count": null,
   "metadata": {},
   "outputs": [],
   "source": [
    "These exchange rates are all from year 2021 which shows an unexpected value decrease in the market"
   ]
  },
  {
   "cell_type": "code",
   "execution_count": null,
   "metadata": {},
   "outputs": [],
   "source": [
    "Now lets find the minimum rate over the years!"
   ]
  },
  {
   "cell_type": "code",
   "execution_count": 32,
   "metadata": {},
   "outputs": [
    {
     "data": {
      "text/plain": [
       "45.17"
      ]
     },
     "execution_count": 32,
     "metadata": {},
     "output_type": "execute_result"
    }
   ],
   "source": [
    "min(rate_over_years)"
   ]
  },
  {
   "cell_type": "code",
   "execution_count": 33,
   "metadata": {},
   "outputs": [
    {
     "name": "stdout",
     "output_type": "stream",
     "text": [
      "48    2011\n",
      "Name: year, dtype: int64\n"
     ]
    }
   ],
   "source": [
    "print(df.loc[df['o_exchange_rate_unofficial']==45.17, 'year'])"
   ]
  },
  {
   "cell_type": "code",
   "execution_count": null,
   "metadata": {},
   "outputs": [],
   "source": [
    "The lowest rate in the period (2007-2024) is 45.17 which is in the year 2011"
   ]
  },
  {
   "cell_type": "code",
   "execution_count": null,
   "metadata": {},
   "outputs": [],
   "source": [
    "lets look for futher values around that date"
   ]
  },
  {
   "cell_type": "code",
   "execution_count": 15,
   "metadata": {},
   "outputs": [
    {
     "name": "stdout",
     "output_type": "stream",
     "text": [
      "48    45.17\n",
      "49    45.82\n",
      "50    45.82\n",
      "51    45.49\n",
      "52    45.90\n",
      "53    46.34\n",
      "54    47.10\n",
      "55    47.97\n",
      "56    47.65\n",
      "57    47.73\n",
      "58    48.74\n",
      "59    48.73\n",
      "Name: o_exchange_rate_unofficial, dtype: float64\n"
     ]
    }
   ],
   "source": [
    "year_2011 =(df.loc[df['year']==2011, 'o_exchange_rate_unofficial'])\n",
    "print(year_2011)"
   ]
  },
  {
   "cell_type": "code",
   "execution_count": 23,
   "metadata": {},
   "outputs": [
    {
     "name": "stderr",
     "output_type": "stream",
     "text": [
      "C:\\Users\\Sina\\anaconda3\\Lib\\site-packages\\seaborn\\_oldcore.py:1119: FutureWarning: use_inf_as_na option is deprecated and will be removed in a future version. Convert inf values to NaN before operating instead.\n",
      "  with pd.option_context('mode.use_inf_as_na', True):\n",
      "C:\\Users\\Sina\\anaconda3\\Lib\\site-packages\\seaborn\\_oldcore.py:1119: FutureWarning: use_inf_as_na option is deprecated and will be removed in a future version. Convert inf values to NaN before operating instead.\n",
      "  with pd.option_context('mode.use_inf_as_na', True):\n"
     ]
    },
    {
     "data": {
      "image/png": "[encoded data removed]",
      "text/plain": [
       "<Figure size 640x480 with 1 Axes>"
      ]
     },
     "metadata": {},
     "output_type": "display_data"
    }
   ],
   "source": [
    "y = [1,2,3,4,5,6,7,8,9,10,11,12]\n",
    "sns.lineplot( x=y, y=year_2011,)\n",
    "plt.title(\"Exchange rates 2011\")\n",
    "plt.show()"
   ]
  },
  {
   "cell_type": "code",
   "execution_count": null,
   "metadata": {},
   "outputs": [],
   "source": [
    "As can be seen exchange rate started depleting in the year 2011\n",
    "lets look for rates in 2010"
   ]
  },
  {
   "cell_type": "code",
   "execution_count": 18,
   "metadata": {},
   "outputs": [
    {
     "name": "stdout",
     "output_type": "stream",
     "text": [
      "36    49.11\n",
      "37    48.54\n",
      "38    48.27\n",
      "39    48.54\n",
      "40    48.16\n",
      "41    47.41\n",
      "42    46.47\n",
      "43    45.55\n",
      "44    46.99\n",
      "45    45.50\n",
      "46    45.73\n",
      "47    45.62\n",
      "Name: o_exchange_rate_unofficial, dtype: float64\n"
     ]
    }
   ],
   "source": [
    "year_2010 =(df.loc[df['year']==2010, 'o_exchange_rate_unofficial'])\n",
    "print(year_2010)"
   ]
  },
  {
   "cell_type": "code",
   "execution_count": 22,
   "metadata": {},
   "outputs": [
    {
     "name": "stderr",
     "output_type": "stream",
     "text": [
      "C:\\Users\\Sina\\anaconda3\\Lib\\site-packages\\seaborn\\_oldcore.py:1119: FutureWarning: use_inf_as_na option is deprecated and will be removed in a future version. Convert inf values to NaN before operating instead.\n",
      "  with pd.option_context('mode.use_inf_as_na', True):\n",
      "C:\\Users\\Sina\\anaconda3\\Lib\\site-packages\\seaborn\\_oldcore.py:1119: FutureWarning: use_inf_as_na option is deprecated and will be removed in a future version. Convert inf values to NaN before operating instead.\n",
      "  with pd.option_context('mode.use_inf_as_na', True):\n"
     ]
    },
    {
     "data": {
      "image/png": "[encoded data removed]",
      "text/plain": [
       "<Figure size 640x480 with 1 Axes>"
      ]
     },
     "metadata": {},
     "output_type": "display_data"
    }
   ],
   "source": [
    "y = [1,2,3,4,5,6,7,8,9,10,11,12]\n",
    "sns.lineplot( x=y, y=year_2010,)\n",
    "plt.title(\"Exchange rates 2010\")\n",
    "plt.show()"
   ]
  },
  {
   "cell_type": "code",
   "execution_count": null,
   "metadata": {},
   "outputs": [],
   "source": [
    "Now that the minimum and maximum rates of the currency are clear we can draw conclusions.\n",
    "The lowest rate is in January 2011 and the highest is in December 2021."
   ]
  },
  {
   "cell_type": "code",
   "execution_count": null,
   "metadata": {},
   "outputs": [],
   "source": []
  }
 ],
 "metadata": {
  "kernelspec": {
   "display_name": "Python 3 (ipykernel)",
   "language": "python",
   "name": "python3"
  },
  "language_info": {
   "codemirror_mode": {
    "name": "ipython",
    "version": 3
   },
   "file_extension": ".py",
   "mimetype": "text/x-python",
   "name": "python",
   "nbconvert_exporter": "python",
   "pygments_lexer": "ipython3",
   "version": "3.11.7"
  }
 },
 "nbformat": 4,
 "nbformat_minor": 4
}
