{
 "cells": [
  {
   "cell_type": "code",
   "execution_count": 26,
   "id": "d9f48c00-c3e2-46b4-a70b-dc2e10d92276",
   "metadata": {},
   "outputs": [],
   "source": [
    "import pandas as pd\n",
    "import seaborn as sns"
   ]
  },
  {
   "cell_type": "code",
   "execution_count": 3,
   "id": "b443c315-7ed0-415f-ace6-30f608df38ad",
   "metadata": {},
   "outputs": [],
   "source": [
    "df = pd.read_csv(\"Currency_Rate.csv\")"
   ]
  },
  {
   "cell_type": "code",
   "execution_count": 5,
   "id": "341a3af7-3b94-466a-8810-ae8725a7e871",
   "metadata": {},
   "outputs": [
    {
     "data": {
      "text/plain": [
       "Index(['Country Name', 'Country Code', 'Indicator Name', 'Indicator Code',\n",
       "       '1960', '1961', '1962', '1963', '1964', '1965', '1966', '1967', '1968',\n",
       "       '1969', '1970', '1971', '1972', '1973', '1974', '1975', '1976', '1977',\n",
       "       '1978', '1979', '1980', '1981', '1982', '1983', '1984', '1985', '1986',\n",
       "       '1987', '1988', '1989', '1990', '1991', '1992', '1993', '1994', '1995',\n",
       "       '1996', '1997', '1998', '1999', '2000', '2001', '2002', '2003', '2004',\n",
       "       '2005', '2006', '2007', '2008', '2009', '2010', '2011', '2012', '2013',\n",
       "       '2014', '2015', '2016', '2017', '2018', '2019', '2020', '2021', '2022',\n",
       "       '2023'],\n",
       "      dtype='object')"
      ]
     },
     "execution_count": 5,
     "metadata": {},
     "output_type": "execute_result"
    }
   ],
   "source": [
    "df.columns"
   ]
  },
  {
   "cell_type": "code",
   "execution_count": 10,
   "id": "5568bef4-c33e-4919-88e3-f40d21ff2148",
   "metadata": {},
   "outputs": [
    {
     "data": {
      "text/html": [
       "<div>\n",
       "<style scoped>\n",
       "    .dataframe tbody tr th:only-of-type {\n",
       "        vertical-align: middle;\n",
       "    }\n",
       "\n",
       "    .dataframe tbody tr th {\n",
       "        vertical-align: top;\n",
       "    }\n",
       "\n",
       "    .dataframe thead th {\n",
       "        text-align: right;\n",
       "    }\n",
       "</style>\n",
       "<table border=\"1\" class=\"dataframe\">\n",
       "  <thead>\n",
       "    <tr style=\"text-align: right;\">\n",
       "      <th></th>\n",
       "      <th>Country Name</th>\n",
       "      <th>Country Code</th>\n",
       "      <th>Indicator Name</th>\n",
       "      <th>Indicator Code</th>\n",
       "      <th>1960</th>\n",
       "      <th>1961</th>\n",
       "      <th>1962</th>\n",
       "      <th>1963</th>\n",
       "      <th>1964</th>\n",
       "      <th>1965</th>\n",
       "      <th>...</th>\n",
       "      <th>2014</th>\n",
       "      <th>2015</th>\n",
       "      <th>2016</th>\n",
       "      <th>2017</th>\n",
       "      <th>2018</th>\n",
       "      <th>2019</th>\n",
       "      <th>2020</th>\n",
       "      <th>2021</th>\n",
       "      <th>2022</th>\n",
       "      <th>2023</th>\n",
       "    </tr>\n",
       "  </thead>\n",
       "  <tbody>\n",
       "    <tr>\n",
       "      <th>0</th>\n",
       "      <td>Aruba</td>\n",
       "      <td>ABW</td>\n",
       "      <td>Official exchange rate (LCU per US$, period av...</td>\n",
       "      <td>PA.NUS.FCRF</td>\n",
       "      <td>NaN</td>\n",
       "      <td>NaN</td>\n",
       "      <td>NaN</td>\n",
       "      <td>NaN</td>\n",
       "      <td>NaN</td>\n",
       "      <td>NaN</td>\n",
       "      <td>...</td>\n",
       "      <td>1.790000</td>\n",
       "      <td>1.790000</td>\n",
       "      <td>1.790000</td>\n",
       "      <td>1.790000</td>\n",
       "      <td>1.790000</td>\n",
       "      <td>1.790000</td>\n",
       "      <td>1.790000</td>\n",
       "      <td>1.790000</td>\n",
       "      <td>1.790000</td>\n",
       "      <td>NaN</td>\n",
       "    </tr>\n",
       "    <tr>\n",
       "      <th>1</th>\n",
       "      <td>Africa Eastern and Southern</td>\n",
       "      <td>AFE</td>\n",
       "      <td>Official exchange rate (LCU per US$, period av...</td>\n",
       "      <td>PA.NUS.FCRF</td>\n",
       "      <td>NaN</td>\n",
       "      <td>NaN</td>\n",
       "      <td>NaN</td>\n",
       "      <td>NaN</td>\n",
       "      <td>NaN</td>\n",
       "      <td>NaN</td>\n",
       "      <td>...</td>\n",
       "      <td>NaN</td>\n",
       "      <td>NaN</td>\n",
       "      <td>NaN</td>\n",
       "      <td>NaN</td>\n",
       "      <td>NaN</td>\n",
       "      <td>NaN</td>\n",
       "      <td>NaN</td>\n",
       "      <td>NaN</td>\n",
       "      <td>NaN</td>\n",
       "      <td>NaN</td>\n",
       "    </tr>\n",
       "    <tr>\n",
       "      <th>2</th>\n",
       "      <td>Afghanistan</td>\n",
       "      <td>AFG</td>\n",
       "      <td>Official exchange rate (LCU per US$, period av...</td>\n",
       "      <td>PA.NUS.FCRF</td>\n",
       "      <td>1.719656e+01</td>\n",
       "      <td>1.719656e+01</td>\n",
       "      <td>1.719656e+01</td>\n",
       "      <td>3.510964e+01</td>\n",
       "      <td>3.869226e+01</td>\n",
       "      <td>3.869226e+01</td>\n",
       "      <td>...</td>\n",
       "      <td>57.247500</td>\n",
       "      <td>61.143462</td>\n",
       "      <td>67.866086</td>\n",
       "      <td>68.026904</td>\n",
       "      <td>72.083247</td>\n",
       "      <td>77.737949</td>\n",
       "      <td>76.813536</td>\n",
       "      <td>NaN</td>\n",
       "      <td>NaN</td>\n",
       "      <td>NaN</td>\n",
       "    </tr>\n",
       "    <tr>\n",
       "      <th>3</th>\n",
       "      <td>Africa Western and Central</td>\n",
       "      <td>AFW</td>\n",
       "      <td>Official exchange rate (LCU per US$, period av...</td>\n",
       "      <td>PA.NUS.FCRF</td>\n",
       "      <td>NaN</td>\n",
       "      <td>NaN</td>\n",
       "      <td>NaN</td>\n",
       "      <td>NaN</td>\n",
       "      <td>NaN</td>\n",
       "      <td>NaN</td>\n",
       "      <td>...</td>\n",
       "      <td>NaN</td>\n",
       "      <td>NaN</td>\n",
       "      <td>NaN</td>\n",
       "      <td>NaN</td>\n",
       "      <td>NaN</td>\n",
       "      <td>NaN</td>\n",
       "      <td>NaN</td>\n",
       "      <td>NaN</td>\n",
       "      <td>NaN</td>\n",
       "      <td>NaN</td>\n",
       "    </tr>\n",
       "    <tr>\n",
       "      <th>4</th>\n",
       "      <td>Angola</td>\n",
       "      <td>AGO</td>\n",
       "      <td>Official exchange rate (LCU per US$, period av...</td>\n",
       "      <td>PA.NUS.FCRF</td>\n",
       "      <td>2.870000e-08</td>\n",
       "      <td>2.870000e-08</td>\n",
       "      <td>2.870000e-08</td>\n",
       "      <td>2.880000e-08</td>\n",
       "      <td>2.880000e-08</td>\n",
       "      <td>2.880000e-08</td>\n",
       "      <td>...</td>\n",
       "      <td>98.302417</td>\n",
       "      <td>120.060702</td>\n",
       "      <td>163.656434</td>\n",
       "      <td>165.915951</td>\n",
       "      <td>252.855748</td>\n",
       "      <td>364.825805</td>\n",
       "      <td>578.258780</td>\n",
       "      <td>631.441955</td>\n",
       "      <td>460.567512</td>\n",
       "      <td>NaN</td>\n",
       "    </tr>\n",
       "  </tbody>\n",
       "</table>\n",
       "<p>5 rows × 68 columns</p>\n",
       "</div>"
      ],
      "text/plain": [
       "                  Country Name Country Code  \\\n",
       "0                        Aruba          ABW   \n",
       "1  Africa Eastern and Southern          AFE   \n",
       "2                  Afghanistan          AFG   \n",
       "3   Africa Western and Central          AFW   \n",
       "4                       Angola          AGO   \n",
       "\n",
       "                                      Indicator Name Indicator Code  \\\n",
       "0  Official exchange rate (LCU per US$, period av...    PA.NUS.FCRF   \n",
       "1  Official exchange rate (LCU per US$, period av...    PA.NUS.FCRF   \n",
       "2  Official exchange rate (LCU per US$, period av...    PA.NUS.FCRF   \n",
       "3  Official exchange rate (LCU per US$, period av...    PA.NUS.FCRF   \n",
       "4  Official exchange rate (LCU per US$, period av...    PA.NUS.FCRF   \n",
       "\n",
       "           1960          1961          1962          1963          1964  \\\n",
       "0           NaN           NaN           NaN           NaN           NaN   \n",
       "1           NaN           NaN           NaN           NaN           NaN   \n",
       "2  1.719656e+01  1.719656e+01  1.719656e+01  3.510964e+01  3.869226e+01   \n",
       "3           NaN           NaN           NaN           NaN           NaN   \n",
       "4  2.870000e-08  2.870000e-08  2.870000e-08  2.880000e-08  2.880000e-08   \n",
       "\n",
       "           1965  ...       2014        2015        2016        2017  \\\n",
       "0           NaN  ...   1.790000    1.790000    1.790000    1.790000   \n",
       "1           NaN  ...        NaN         NaN         NaN         NaN   \n",
       "2  3.869226e+01  ...  57.247500   61.143462   67.866086   68.026904   \n",
       "3           NaN  ...        NaN         NaN         NaN         NaN   \n",
       "4  2.880000e-08  ...  98.302417  120.060702  163.656434  165.915951   \n",
       "\n",
       "         2018        2019        2020        2021        2022  2023  \n",
       "0    1.790000    1.790000    1.790000    1.790000    1.790000   NaN  \n",
       "1         NaN         NaN         NaN         NaN         NaN   NaN  \n",
       "2   72.083247   77.737949   76.813536         NaN         NaN   NaN  \n",
       "3         NaN         NaN         NaN         NaN         NaN   NaN  \n",
       "4  252.855748  364.825805  578.258780  631.441955  460.567512   NaN  \n",
       "\n",
       "[5 rows x 68 columns]"
      ]
     },
     "execution_count": 10,
     "metadata": {},
     "output_type": "execute_result"
    }
   ],
   "source": [
    "df.head()"
   ]
  },
  {
   "cell_type": "code",
   "execution_count": 12,
   "id": "35e027d0-b81b-401d-9cec-0accb6635287",
   "metadata": {},
   "outputs": [
    {
     "data": {
      "text/plain": [
       "<bound method NDFrame.tail of                     Country Name Country Code  \\\n",
       "0                          Aruba          ABW   \n",
       "1    Africa Eastern and Southern          AFE   \n",
       "2                    Afghanistan          AFG   \n",
       "3     Africa Western and Central          AFW   \n",
       "4                         Angola          AGO   \n",
       "..                           ...          ...   \n",
       "261                       Kosovo          XKX   \n",
       "262                  Yemen, Rep.          YEM   \n",
       "263                 South Africa          ZAF   \n",
       "264                       Zambia          ZMB   \n",
       "265                     Zimbabwe          ZWE   \n",
       "\n",
       "                                        Indicator Name Indicator Code  \\\n",
       "0    Official exchange rate (LCU per US$, period av...    PA.NUS.FCRF   \n",
       "1    Official exchange rate (LCU per US$, period av...    PA.NUS.FCRF   \n",
       "2    Official exchange rate (LCU per US$, period av...    PA.NUS.FCRF   \n",
       "3    Official exchange rate (LCU per US$, period av...    PA.NUS.FCRF   \n",
       "4    Official exchange rate (LCU per US$, period av...    PA.NUS.FCRF   \n",
       "..                                                 ...            ...   \n",
       "261  Official exchange rate (LCU per US$, period av...    PA.NUS.FCRF   \n",
       "262  Official exchange rate (LCU per US$, period av...    PA.NUS.FCRF   \n",
       "263  Official exchange rate (LCU per US$, period av...    PA.NUS.FCRF   \n",
       "264  Official exchange rate (LCU per US$, period av...    PA.NUS.FCRF   \n",
       "265  Official exchange rate (LCU per US$, period av...    PA.NUS.FCRF   \n",
       "\n",
       "             1960          1961          1962          1963          1964  \\\n",
       "0             NaN           NaN           NaN           NaN           NaN   \n",
       "1             NaN           NaN           NaN           NaN           NaN   \n",
       "2    1.719656e+01  1.719656e+01  1.719656e+01  3.510964e+01  3.869226e+01   \n",
       "3             NaN           NaN           NaN           NaN           NaN   \n",
       "4    2.870000e-08  2.870000e-08  2.870000e-08  2.880000e-08  2.880000e-08   \n",
       "..            ...           ...           ...           ...           ...   \n",
       "261           NaN           NaN           NaN           NaN           NaN   \n",
       "262           NaN           NaN           NaN           NaN           NaN   \n",
       "263  7.142860e-01  7.142860e-01  7.142860e-01  7.142860e-01  7.142860e-01   \n",
       "264  7.142860e-01  7.142860e-01  7.142860e-01  7.142860e-01  7.142860e-01   \n",
       "265  7.142860e-04  7.142860e-04  7.142860e-04  7.142860e-04  7.142860e-04   \n",
       "\n",
       "             1965  ...        2014        2015        2016        2017  \\\n",
       "0             NaN  ...    1.790000    1.790000    1.790000    1.790000   \n",
       "1             NaN  ...         NaN         NaN         NaN         NaN   \n",
       "2    3.869226e+01  ...   57.247500   61.143462   67.866086   68.026904   \n",
       "3             NaN  ...         NaN         NaN         NaN         NaN   \n",
       "4    2.880000e-08  ...   98.302417  120.060702  163.656434  165.915951   \n",
       "..            ...  ...         ...         ...         ...         ...   \n",
       "261           NaN  ...    0.752728    0.901296    0.903421    0.885206   \n",
       "262           NaN  ...  214.890000  230.833333  283.895833  282.195000   \n",
       "263  7.142860e-01  ...   10.852656   12.758931   14.709611   13.323801   \n",
       "264  7.142860e-01  ...    6.154167    8.631667   10.307500    9.517500   \n",
       "265  7.142860e-04  ...         NaN         NaN         NaN         NaN   \n",
       "\n",
       "           2018        2019        2020         2021         2022  2023  \n",
       "0      1.790000    1.790000    1.790000     1.790000     1.790000   NaN  \n",
       "1           NaN         NaN         NaN          NaN          NaN   NaN  \n",
       "2     72.083247   77.737949   76.813536          NaN          NaN   NaN  \n",
       "3           NaN         NaN         NaN          NaN          NaN   NaN  \n",
       "4    252.855748  364.825805  578.258780   631.441955   460.567512   NaN  \n",
       "..          ...         ...         ...          ...          ...   ...  \n",
       "261    0.846773    0.893216    0.877475     0.845377     0.950916   NaN  \n",
       "262  214.890000  486.730923  743.005964  1035.467186  1114.292841   NaN  \n",
       "263   13.233926   14.448427   16.459105    14.778678    16.355853   NaN  \n",
       "264   10.458333   12.890000   18.344093    20.018487    16.937594   NaN  \n",
       "265         NaN         NaN   51.329013    88.552447   374.954363   NaN  \n",
       "\n",
       "[266 rows x 68 columns]>"
      ]
     },
     "execution_count": 12,
     "metadata": {},
     "output_type": "execute_result"
    }
   ],
   "source": [
    "df.tail"
   ]
  },
  {
   "cell_type": "code",
   "execution_count": 13,
   "id": "9a7c2d99-7543-40ae-a3f7-94050d994dba",
   "metadata": {},
   "outputs": [],
   "source": [
    "df_currency = df.copy()"
   ]
  },
  {
   "cell_type": "code",
   "execution_count": 14,
   "id": "5acf0995-28d1-49fe-b68d-ccfb6e4f6090",
   "metadata": {},
   "outputs": [
    {
     "data": {
      "text/plain": [
       "Country Name       object\n",
       "Country Code       object\n",
       "Indicator Name     object\n",
       "Indicator Code     object\n",
       "1960              float64\n",
       "                   ...   \n",
       "2019              float64\n",
       "2020              float64\n",
       "2021              float64\n",
       "2022              float64\n",
       "2023              float64\n",
       "Length: 68, dtype: object"
      ]
     },
     "execution_count": 14,
     "metadata": {},
     "output_type": "execute_result"
    }
   ],
   "source": [
    "df_currency.dtypes"
   ]
  },
  {
   "cell_type": "code",
   "execution_count": 15,
   "id": "dcd4fe40-f372-4ba5-becb-5168ddd1704f",
   "metadata": {},
   "outputs": [
    {
     "data": {
      "text/plain": [
       "(266, 68)"
      ]
     },
     "execution_count": 15,
     "metadata": {},
     "output_type": "execute_result"
    }
   ],
   "source": [
    "df_currency.shape"
   ]
  },
  {
   "cell_type": "code",
   "execution_count": 16,
   "id": "c61f56d0-4c00-427b-9482-ef8558016664",
   "metadata": {},
   "outputs": [
    {
     "data": {
      "text/plain": [
       "Country Name      False\n",
       "Country Code      False\n",
       "Indicator Name    False\n",
       "Indicator Code    False\n",
       "1960               True\n",
       "                  ...  \n",
       "2019               True\n",
       "2020               True\n",
       "2021               True\n",
       "2022               True\n",
       "2023               True\n",
       "Length: 68, dtype: bool"
      ]
     },
     "execution_count": 16,
     "metadata": {},
     "output_type": "execute_result"
    }
   ],
   "source": [
    "df_currency.isnull().any()"
   ]
  },
  {
   "cell_type": "code",
   "execution_count": 39,
   "id": "ccd29ef5-f33c-4caa-8eca-1b2b3e7d3b0c",
   "metadata": {},
   "outputs": [
    {
     "data": {
      "text/plain": [
       "Country Name        0\n",
       "Country Code        0\n",
       "Indicator Name      0\n",
       "Indicator Code      0\n",
       "1960              108\n",
       "                 ... \n",
       "2019               91\n",
       "2020               90\n",
       "2021               93\n",
       "2022               99\n",
       "2023              266\n",
       "Length: 68, dtype: int64"
      ]
     },
     "execution_count": 39,
     "metadata": {},
     "output_type": "execute_result"
    }
   ],
   "source": [
    "df_currency.isna().sum()"
   ]
  },
  {
   "cell_type": "code",
   "execution_count": 40,
   "id": "8093f8f2-906a-4704-87ad-354ff0159896",
   "metadata": {},
   "outputs": [
    {
     "name": "stdout",
     "output_type": "stream",
     "text": [
      "    Country Name Country Code  \\\n",
      "213      Somalia          SOM   \n",
      "\n",
      "                                        Indicator Name Indicator Code  \\\n",
      "213  Official exchange rate (LCU per US$, period av...    PA.NUS.FCRF   \n",
      "\n",
      "        1960     1961     1962     1963     1964     1965  ...         2014  \\\n",
      "213  7.14286  7.14286  7.14286  7.14286  7.14286  7.14286  ...  20230.92913   \n",
      "\n",
      "            2015         2016         2017  2018  2019  2020  2021  2022  2023  \n",
      "213  22254.23568  23061.78431  23097.98732   NaN   NaN   NaN   NaN   NaN   NaN  \n",
      "\n",
      "[1 rows x 68 columns]\n"
     ]
    }
   ],
   "source": [
    "print(df_currency[df_currency['Country Name']=='Somalia'])"
   ]
  },
  {
   "cell_type": "code",
   "execution_count": 43,
   "id": "eb3f309e-6061-4625-9c1d-baeefa154af2",
   "metadata": {},
   "outputs": [
    {
     "name": "stdout",
     "output_type": "stream",
     "text": [
      "Country Name                                                Somalia\n",
      "Country Code                                                    SOM\n",
      "Indicator Name    Official exchange rate (LCU per US$, period av...\n",
      "Indicator Code                                          PA.NUS.FCRF\n",
      "1960                                                        7.14286\n",
      "                                        ...                        \n",
      "2019                                                            NaN\n",
      "2020                                                            NaN\n",
      "2021                                                            NaN\n",
      "2022                                                            NaN\n",
      "2023                                                            NaN\n",
      "Name: 213, Length: 68, dtype: object\n"
     ]
    }
   ],
   "source": [
    "somalia = df_currency.loc[213]\n",
    "print(somalia)"
   ]
  },
  {
   "cell_type": "code",
   "execution_count": 50,
   "id": "46837260-6ad0-4718-86c7-ac0c1980d680",
   "metadata": {},
   "outputs": [
    {
     "data": {
      "text/plain": [
       "(68,)"
      ]
     },
     "execution_count": 50,
     "metadata": {},
     "output_type": "execute_result"
    }
   ],
   "source": [
    "df_currency.loc[213].isnull().any()\n",
    "somalia.shape"
   ]
  },
  {
   "cell_type": "code",
   "execution_count": 51,
   "id": "f6cc5ed2-7739-44a5-b768-4d2d1613a9b0",
   "metadata": {},
   "outputs": [],
   "source": [
    "SOM1 = somalia[4:15]\n",
    "SOM2 = somalia[16:30]\n",
    "SOM3 = somalia[31:45]\n",
    "SOM4 = somalia[45:67]"
   ]
  },
  {
   "cell_type": "code",
   "execution_count": 53,
   "id": "3c6051d7-2cbd-44ae-a4ea-bfa7293413a6",
   "metadata": {},
   "outputs": [
    {
     "name": "stderr",
     "output_type": "stream",
     "text": [
      "C:\\Users\\Sina\\anaconda3\\Lib\\site-packages\\seaborn\\_oldcore.py:1119: FutureWarning: use_inf_as_na option is deprecated and will be removed in a future version. Convert inf values to NaN before operating instead.\n",
      "  with pd.option_context('mode.use_inf_as_na', True):\n",
      "C:\\Users\\Sina\\anaconda3\\Lib\\site-packages\\seaborn\\_oldcore.py:1119: FutureWarning: use_inf_as_na option is deprecated and will be removed in a future version. Convert inf values to NaN before operating instead.\n",
      "  with pd.option_context('mode.use_inf_as_na', True):\n"
     ]
    },
    {
     "data": {
      "text/plain": [
       "<Axes: ylabel='213'>"
      ]
     },
     "execution_count": 53,
     "metadata": {},
     "output_type": "execute_result"
    },
    {
     "data": {
      "image/png": "[encoded data removed]",
      "text/plain": [
       "<Figure size 640x480 with 1 Axes>"
      ]
     },
     "metadata": {},
     "output_type": "display_data"
    }
   ],
   "source": [
    "sns.lineplot(SOM1)"
   ]
  },
  {
   "cell_type": "code",
   "execution_count": 54,
   "id": "70ff1376-4fc4-429c-a1c6-9914a55143fc",
   "metadata": {},
   "outputs": [
    {
     "name": "stderr",
     "output_type": "stream",
     "text": [
      "C:\\Users\\Sina\\anaconda3\\Lib\\site-packages\\seaborn\\_oldcore.py:1119: FutureWarning: use_inf_as_na option is deprecated and will be removed in a future version. Convert inf values to NaN before operating instead.\n",
      "  with pd.option_context('mode.use_inf_as_na', True):\n",
      "C:\\Users\\Sina\\anaconda3\\Lib\\site-packages\\seaborn\\_oldcore.py:1119: FutureWarning: use_inf_as_na option is deprecated and will be removed in a future version. Convert inf values to NaN before operating instead.\n",
      "  with pd.option_context('mode.use_inf_as_na', True):\n"
     ]
    },
    {
     "data": {
      "text/plain": [
       "<Axes: ylabel='213'>"
      ]
     },
     "execution_count": 54,
     "metadata": {},
     "output_type": "execute_result"
    },
    {
     "data": {
      "image/png": "[encoded data removed]",
      "text/plain": [
       "<Figure size 640x480 with 1 Axes>"
      ]
     },
     "metadata": {},
     "output_type": "display_data"
    }
   ],
   "source": [
    "sns.lineplot(SOM2)"
   ]
  },
  {
   "cell_type": "code",
   "execution_count": 56,
   "id": "11cf0b95-e89d-4879-a6e1-a14daead5c3f",
   "metadata": {},
   "outputs": [
    {
     "name": "stderr",
     "output_type": "stream",
     "text": [
      "C:\\Users\\Sina\\anaconda3\\Lib\\site-packages\\seaborn\\_oldcore.py:1119: FutureWarning: use_inf_as_na option is deprecated and will be removed in a future version. Convert inf values to NaN before operating instead.\n",
      "  with pd.option_context('mode.use_inf_as_na', True):\n",
      "C:\\Users\\Sina\\anaconda3\\Lib\\site-packages\\seaborn\\_oldcore.py:1119: FutureWarning: use_inf_as_na option is deprecated and will be removed in a future version. Convert inf values to NaN before operating instead.\n",
      "  with pd.option_context('mode.use_inf_as_na', True):\n"
     ]
    },
    {
     "data": {
      "text/plain": [
       "<Axes: ylabel='213'>"
      ]
     },
     "execution_count": 56,
     "metadata": {},
     "output_type": "execute_result"
    },
    {
     "data": {
      "image/png": "[encoded data removed]",
      "text/plain": [
       "<Figure size 640x480 with 1 Axes>"
      ]
     },
     "metadata": {},
     "output_type": "display_data"
    }
   ],
   "source": [
    "sns.lineplot(SOM3)"
   ]
  },
  {
   "cell_type": "code",
   "execution_count": 57,
   "id": "a907c736-1d73-41ac-a627-c0efcce44512",
   "metadata": {},
   "outputs": [
    {
     "name": "stderr",
     "output_type": "stream",
     "text": [
      "C:\\Users\\Sina\\anaconda3\\Lib\\site-packages\\seaborn\\_oldcore.py:1119: FutureWarning: use_inf_as_na option is deprecated and will be removed in a future version. Convert inf values to NaN before operating instead.\n",
      "  with pd.option_context('mode.use_inf_as_na', True):\n",
      "C:\\Users\\Sina\\anaconda3\\Lib\\site-packages\\seaborn\\_oldcore.py:1119: FutureWarning: use_inf_as_na option is deprecated and will be removed in a future version. Convert inf values to NaN before operating instead.\n",
      "  with pd.option_context('mode.use_inf_as_na', True):\n"
     ]
    },
    {
     "data": {
      "text/plain": [
       "<Axes: ylabel='213'>"
      ]
     },
     "execution_count": 57,
     "metadata": {},
     "output_type": "execute_result"
    },
    {
     "data": {
      "image/png": "[encoded data removed]",
      "text/plain": [
       "<Figure size 640x480 with 1 Axes>"
      ]
     },
     "metadata": {},
     "output_type": "display_data"
    }
   ],
   "source": [
    "sns.lineplot(SOM4)"
   ]
  },
  {
   "cell_type": "code",
   "execution_count": 60,
   "id": "d29fd331-d790-4836-bbcc-195a638f8ef7",
   "metadata": {},
   "outputs": [],
   "source": [
    "#There are huge fields missing for Somalia(a developing country)\n",
    "#However, the only huge drop in currency rate occurs betweeen 2010 and 2013\n",
    "#Alshabaab 2009& 2010/ Civil War since 2009/ TFG "
   ]
  },
  {
   "cell_type": "code",
   "execution_count": 20,
   "id": "302c316a-dbe3-4fa0-9a8e-1c37f79d4302",
   "metadata": {},
   "outputs": [
    {
     "name": "stdout",
     "output_type": "stream",
     "text": [
      "Country Name                                            Afghanistan\n",
      "Country Code                                                    AFG\n",
      "Indicator Name    Official exchange rate (LCU per US$, period av...\n",
      "Indicator Code                                          PA.NUS.FCRF\n",
      "1960                                                      17.196561\n",
      "                                        ...                        \n",
      "2019                                                      77.737949\n",
      "2020                                                      76.813536\n",
      "2021                                                            NaN\n",
      "2022                                                            NaN\n",
      "2023                                                            NaN\n",
      "Name: 2, Length: 68, dtype: object\n"
     ]
    }
   ],
   "source": [
    "print(df_currency.loc[2])\n",
    "#Since Afg is the main focus of this study we need to see which values are missing\n",
    "#We have three missing years (21,22&23)"
   ]
  },
  {
   "cell_type": "code",
   "execution_count": 30,
   "id": "e7025321-48f6-471d-91d1-7f85745963dc",
   "metadata": {},
   "outputs": [
    {
     "data": {
      "text/plain": [
       "(68,)"
      ]
     },
     "execution_count": 30,
     "metadata": {},
     "output_type": "execute_result"
    }
   ],
   "source": [
    "Afg_currency = df_currency.loc[2]\n",
    "Afg_currency.shape"
   ]
  },
  {
   "cell_type": "code",
   "execution_count": 33,
   "id": "23a2b288-1368-4a48-b550-4064d5cdee2f",
   "metadata": {},
   "outputs": [],
   "source": [
    "Afg1 = Afg_currency[4:15]\n",
    "Afg2 = Afg_currency[16:30]\n",
    "Afg3 = Afg_currency[31:45]\n",
    "Afg4 = Afg_currency[45:67]"
   ]
  },
  {
   "cell_type": "code",
   "execution_count": 35,
   "id": "f3fa97c1-3497-4056-a1de-af6e0f2af0f0",
   "metadata": {},
   "outputs": [
    {
     "name": "stderr",
     "output_type": "stream",
     "text": [
      "C:\\Users\\Sina\\anaconda3\\Lib\\site-packages\\seaborn\\_oldcore.py:1119: FutureWarning: use_inf_as_na option is deprecated and will be removed in a future version. Convert inf values to NaN before operating instead.\n",
      "  with pd.option_context('mode.use_inf_as_na', True):\n",
      "C:\\Users\\Sina\\anaconda3\\Lib\\site-packages\\seaborn\\_oldcore.py:1119: FutureWarning: use_inf_as_na option is deprecated and will be removed in a future version. Convert inf values to NaN before operating instead.\n",
      "  with pd.option_context('mode.use_inf_as_na', True):\n"
     ]
    },
    {
     "data": {
      "text/plain": [
       "<Axes: ylabel='2'>"
      ]
     },
     "execution_count": 35,
     "metadata": {},
     "output_type": "execute_result"
    },
    {
     "data": {
      "image/png": "[encoded data removed]",
      "text/plain": [
       "<Figure size 640x480 with 1 Axes>"
      ]
     },
     "metadata": {},
     "output_type": "display_data"
    }
   ],
   "source": [
    "sns.lineplot(Afg1)\n"
   ]
  },
  {
   "cell_type": "code",
   "execution_count": 36,
   "id": "458aa565-6b3d-468f-9675-df849109b9ee",
   "metadata": {},
   "outputs": [
    {
     "name": "stderr",
     "output_type": "stream",
     "text": [
      "C:\\Users\\Sina\\anaconda3\\Lib\\site-packages\\seaborn\\_oldcore.py:1119: FutureWarning: use_inf_as_na option is deprecated and will be removed in a future version. Convert inf values to NaN before operating instead.\n",
      "  with pd.option_context('mode.use_inf_as_na', True):\n",
      "C:\\Users\\Sina\\anaconda3\\Lib\\site-packages\\seaborn\\_oldcore.py:1119: FutureWarning: use_inf_as_na option is deprecated and will be removed in a future version. Convert inf values to NaN before operating instead.\n",
      "  with pd.option_context('mode.use_inf_as_na', True):\n"
     ]
    },
    {
     "data": {
      "text/plain": [
       "<Axes: ylabel='2'>"
      ]
     },
     "execution_count": 36,
     "metadata": {},
     "output_type": "execute_result"
    },
    {
     "data": {
      "image/png": "[encoded data removed]",
      "text/plain": [
       "<Figure size 640x480 with 1 Axes>"
      ]
     },
     "metadata": {},
     "output_type": "display_data"
    }
   ],
   "source": [
    "sns.lineplot(Afg2)\n"
   ]
  },
  {
   "cell_type": "code",
   "execution_count": 37,
   "id": "89f544ac-2529-42a4-9ad3-0cd97051d099",
   "metadata": {},
   "outputs": [
    {
     "name": "stderr",
     "output_type": "stream",
     "text": [
      "C:\\Users\\Sina\\anaconda3\\Lib\\site-packages\\seaborn\\_oldcore.py:1119: FutureWarning: use_inf_as_na option is deprecated and will be removed in a future version. Convert inf values to NaN before operating instead.\n",
      "  with pd.option_context('mode.use_inf_as_na', True):\n",
      "C:\\Users\\Sina\\anaconda3\\Lib\\site-packages\\seaborn\\_oldcore.py:1119: FutureWarning: use_inf_as_na option is deprecated and will be removed in a future version. Convert inf values to NaN before operating instead.\n",
      "  with pd.option_context('mode.use_inf_as_na', True):\n"
     ]
    },
    {
     "data": {
      "text/plain": [
       "<Axes: ylabel='2'>"
      ]
     },
     "execution_count": 37,
     "metadata": {},
     "output_type": "execute_result"
    },
    {
     "data": {
      "image/png": "[encoded data removed]",
      "text/plain": [
       "<Figure size 640x480 with 1 Axes>"
      ]
     },
     "metadata": {},
     "output_type": "display_data"
    }
   ],
   "source": [
    "sns.lineplot(Afg3)\n"
   ]
  },
  {
   "cell_type": "code",
   "execution_count": 38,
   "id": "8abdd626-beaf-4f76-9fb3-97c0427bf613",
   "metadata": {},
   "outputs": [
    {
     "name": "stderr",
     "output_type": "stream",
     "text": [
      "C:\\Users\\Sina\\anaconda3\\Lib\\site-packages\\seaborn\\_oldcore.py:1119: FutureWarning: use_inf_as_na option is deprecated and will be removed in a future version. Convert inf values to NaN before operating instead.\n",
      "  with pd.option_context('mode.use_inf_as_na', True):\n",
      "C:\\Users\\Sina\\anaconda3\\Lib\\site-packages\\seaborn\\_oldcore.py:1119: FutureWarning: use_inf_as_na option is deprecated and will be removed in a future version. Convert inf values to NaN before operating instead.\n",
      "  with pd.option_context('mode.use_inf_as_na', True):\n"
     ]
    },
    {
     "data": {
      "text/plain": [
       "<Axes: ylabel='2'>"
      ]
     },
     "execution_count": 38,
     "metadata": {},
     "output_type": "execute_result"
    },
    {
     "data": {
      "image/png": "[encoded data removed]",
      "text/plain": [
       "<Figure size 640x480 with 1 Axes>"
      ]
     },
     "metadata": {},
     "output_type": "display_data"
    }
   ],
   "source": [
    "sns.lineplot(Afg4)"
   ]
  },
  {
   "cell_type": "code",
   "execution_count": 61,
   "id": "c30fbc9f-e5da-4044-bd1e-3c42430752cf",
   "metadata": {},
   "outputs": [
    {
     "data": {
      "text/plain": [
       "1995"
      ]
     },
     "execution_count": 61,
     "metadata": {},
     "output_type": "execute_result"
    }
   ],
   "source": [
    "#1975\n",
    "#1995\n",
    "#2010 | reinforcement of the troops to fight the Taliban.\n",
    "#Air attacks | Civilian casualties | Joint operations | reinforced commitment.\n",
    "#Afgani currency has dropped significantly in these years.\n",
    "#2010 is seen in both Afghanistan and Solmalia"
   ]
  },
  {
   "cell_type": "code",
   "execution_count": 21,
   "id": "0f2ce4c1-8f52-4388-b267-3cdaee445f79",
   "metadata": {},
   "outputs": [
    {
     "name": "stdout",
     "output_type": "stream",
     "text": [
      "<class 'pandas.core.frame.DataFrame'>\n",
      "RangeIndex: 266 entries, 0 to 265\n",
      "Data columns (total 68 columns):\n",
      " #   Column          Non-Null Count  Dtype  \n",
      "---  ------          --------------  -----  \n",
      " 0   Country Name    266 non-null    object \n",
      " 1   Country Code    266 non-null    object \n",
      " 2   Indicator Name  266 non-null    object \n",
      " 3   Indicator Code  266 non-null    object \n",
      " 4   1960            158 non-null    float64\n",
      " 5   1961            158 non-null    float64\n",
      " 6   1962            159 non-null    float64\n",
      " 7   1963            160 non-null    float64\n",
      " 8   1964            160 non-null    float64\n",
      " 9   1965            160 non-null    float64\n",
      " 10  1966            163 non-null    float64\n",
      " 11  1967            165 non-null    float64\n",
      " 12  1968            166 non-null    float64\n",
      " 13  1969            166 non-null    float64\n",
      " 14  1970            166 non-null    float64\n",
      " 15  1971            167 non-null    float64\n",
      " 16  1972            168 non-null    float64\n",
      " 17  1973            168 non-null    float64\n",
      " 18  1974            167 non-null    float64\n",
      " 19  1975            165 non-null    float64\n",
      " 20  1976            165 non-null    float64\n",
      " 21  1977            165 non-null    float64\n",
      " 22  1978            165 non-null    float64\n",
      " 23  1979            165 non-null    float64\n",
      " 24  1980            165 non-null    float64\n",
      " 25  1981            165 non-null    float64\n",
      " 26  1982            165 non-null    float64\n",
      " 27  1983            166 non-null    float64\n",
      " 28  1984            165 non-null    float64\n",
      " 29  1985            165 non-null    float64\n",
      " 30  1986            167 non-null    float64\n",
      " 31  1987            167 non-null    float64\n",
      " 32  1988            167 non-null    float64\n",
      " 33  1989            167 non-null    float64\n",
      " 34  1990            167 non-null    float64\n",
      " 35  1991            169 non-null    float64\n",
      " 36  1992            176 non-null    float64\n",
      " 37  1993            182 non-null    float64\n",
      " 38  1994            186 non-null    float64\n",
      " 39  1995            188 non-null    float64\n",
      " 40  1996            190 non-null    float64\n",
      " 41  1997            192 non-null    float64\n",
      " 42  1998            192 non-null    float64\n",
      " 43  1999            183 non-null    float64\n",
      " 44  2000            184 non-null    float64\n",
      " 45  2001            182 non-null    float64\n",
      " 46  2002            182 non-null    float64\n",
      " 47  2003            181 non-null    float64\n",
      " 48  2004            181 non-null    float64\n",
      " 49  2005            183 non-null    float64\n",
      " 50  2006            183 non-null    float64\n",
      " 51  2007            182 non-null    float64\n",
      " 52  2008            180 non-null    float64\n",
      " 53  2009            179 non-null    float64\n",
      " 54  2010            179 non-null    float64\n",
      " 55  2011            181 non-null    float64\n",
      " 56  2012            181 non-null    float64\n",
      " 57  2013            182 non-null    float64\n",
      " 58  2014            181 non-null    float64\n",
      " 59  2015            180 non-null    float64\n",
      " 60  2016            180 non-null    float64\n",
      " 61  2017            178 non-null    float64\n",
      " 62  2018            175 non-null    float64\n",
      " 63  2019            175 non-null    float64\n",
      " 64  2020            176 non-null    float64\n",
      " 65  2021            173 non-null    float64\n",
      " 66  2022            167 non-null    float64\n",
      " 67  2023            0 non-null      float64\n",
      "dtypes: float64(64), object(4)\n",
      "memory usage: 141.4+ KB\n"
     ]
    }
   ],
   "source": [
    "df_currency.info()"
   ]
  },
  {
   "cell_type": "code",
   "execution_count": 23,
   "id": "86d69a16-e71d-4787-b51b-9ad5f6dad367",
   "metadata": {},
   "outputs": [
    {
     "data": {
      "text/html": [
       "<div>\n",
       "<style scoped>\n",
       "    .dataframe tbody tr th:only-of-type {\n",
       "        vertical-align: middle;\n",
       "    }\n",
       "\n",
       "    .dataframe tbody tr th {\n",
       "        vertical-align: top;\n",
       "    }\n",
       "\n",
       "    .dataframe thead th {\n",
       "        text-align: right;\n",
       "    }\n",
       "</style>\n",
       "<table border=\"1\" class=\"dataframe\">\n",
       "  <thead>\n",
       "    <tr style=\"text-align: right;\">\n",
       "      <th></th>\n",
       "      <th>1960</th>\n",
       "      <th>1961</th>\n",
       "      <th>1962</th>\n",
       "      <th>1963</th>\n",
       "      <th>1964</th>\n",
       "      <th>1965</th>\n",
       "      <th>1966</th>\n",
       "      <th>1967</th>\n",
       "      <th>1968</th>\n",
       "      <th>1969</th>\n",
       "      <th>...</th>\n",
       "      <th>2014</th>\n",
       "      <th>2015</th>\n",
       "      <th>2016</th>\n",
       "      <th>2017</th>\n",
       "      <th>2018</th>\n",
       "      <th>2019</th>\n",
       "      <th>2020</th>\n",
       "      <th>2021</th>\n",
       "      <th>2022</th>\n",
       "      <th>2023</th>\n",
       "    </tr>\n",
       "  </thead>\n",
       "  <tbody>\n",
       "    <tr>\n",
       "      <th>count</th>\n",
       "      <td>1.580000e+02</td>\n",
       "      <td>1.580000e+02</td>\n",
       "      <td>1.590000e+02</td>\n",
       "      <td>1.600000e+02</td>\n",
       "      <td>1.600000e+02</td>\n",
       "      <td>1.600000e+02</td>\n",
       "      <td>1.630000e+02</td>\n",
       "      <td>1.650000e+02</td>\n",
       "      <td>1.660000e+02</td>\n",
       "      <td>1.660000e+02</td>\n",
       "      <td>...</td>\n",
       "      <td>181.000000</td>\n",
       "      <td>180.000000</td>\n",
       "      <td>180.000000</td>\n",
       "      <td>178.000000</td>\n",
       "      <td>175.000000</td>\n",
       "      <td>175.000000</td>\n",
       "      <td>176.000000</td>\n",
       "      <td>173.000000</td>\n",
       "      <td>167.000000</td>\n",
       "      <td>0.0</td>\n",
       "    </tr>\n",
       "    <tr>\n",
       "      <th>mean</th>\n",
       "      <td>3.965273e+01</td>\n",
       "      <td>4.008355e+01</td>\n",
       "      <td>3.987118e+01</td>\n",
       "      <td>3.974940e+01</td>\n",
       "      <td>4.129690e+01</td>\n",
       "      <td>4.185239e+01</td>\n",
       "      <td>4.151753e+01</td>\n",
       "      <td>4.209959e+01</td>\n",
       "      <td>4.339756e+01</td>\n",
       "      <td>4.492895e+01</td>\n",
       "      <td>...</td>\n",
       "      <td>755.453387</td>\n",
       "      <td>835.725343</td>\n",
       "      <td>877.954175</td>\n",
       "      <td>922.585033</td>\n",
       "      <td>874.094095</td>\n",
       "      <td>905.836191</td>\n",
       "      <td>928.049873</td>\n",
       "      <td>887.518351</td>\n",
       "      <td>695.756151</td>\n",
       "      <td>NaN</td>\n",
       "    </tr>\n",
       "    <tr>\n",
       "      <th>std</th>\n",
       "      <td>9.088743e+01</td>\n",
       "      <td>9.119025e+01</td>\n",
       "      <td>9.092475e+01</td>\n",
       "      <td>9.067134e+01</td>\n",
       "      <td>9.273930e+01</td>\n",
       "      <td>9.350503e+01</td>\n",
       "      <td>9.304417e+01</td>\n",
       "      <td>9.298789e+01</td>\n",
       "      <td>9.480695e+01</td>\n",
       "      <td>9.796688e+01</td>\n",
       "      <td>...</td>\n",
       "      <td>3126.447999</td>\n",
       "      <td>3412.961699</td>\n",
       "      <td>3560.975788</td>\n",
       "      <td>3722.403931</td>\n",
       "      <td>3851.499773</td>\n",
       "      <td>3951.565262</td>\n",
       "      <td>3984.954713</td>\n",
       "      <td>3973.638502</td>\n",
       "      <td>2627.117289</td>\n",
       "      <td>NaN</td>\n",
       "    </tr>\n",
       "    <tr>\n",
       "      <th>min</th>\n",
       "      <td>8.100000e-14</td>\n",
       "      <td>1.170000e-13</td>\n",
       "      <td>1.680000e-13</td>\n",
       "      <td>2.490000e-13</td>\n",
       "      <td>5.420000e-13</td>\n",
       "      <td>5.500000e-13</td>\n",
       "      <td>5.500000e-13</td>\n",
       "      <td>1.150000e-12</td>\n",
       "      <td>1.470000e-12</td>\n",
       "      <td>1.670000e-12</td>\n",
       "      <td>...</td>\n",
       "      <td>0.284567</td>\n",
       "      <td>0.300852</td>\n",
       "      <td>0.302137</td>\n",
       "      <td>0.303350</td>\n",
       "      <td>0.301956</td>\n",
       "      <td>0.303611</td>\n",
       "      <td>0.306233</td>\n",
       "      <td>0.301643</td>\n",
       "      <td>0.306250</td>\n",
       "      <td>NaN</td>\n",
       "    </tr>\n",
       "    <tr>\n",
       "      <th>25%</th>\n",
       "      <td>7.142858e-01</td>\n",
       "      <td>7.142860e-01</td>\n",
       "      <td>7.142854e-01</td>\n",
       "      <td>7.142859e-01</td>\n",
       "      <td>7.142859e-01</td>\n",
       "      <td>7.142859e-01</td>\n",
       "      <td>7.142859e-01</td>\n",
       "      <td>7.142860e-01</td>\n",
       "      <td>7.142860e-01</td>\n",
       "      <td>7.142860e-01</td>\n",
       "      <td>...</td>\n",
       "      <td>2.352952</td>\n",
       "      <td>2.700000</td>\n",
       "      <td>2.700000</td>\n",
       "      <td>2.700000</td>\n",
       "      <td>2.673433</td>\n",
       "      <td>2.700000</td>\n",
       "      <td>2.700000</td>\n",
       "      <td>2.700000</td>\n",
       "      <td>2.700000</td>\n",
       "      <td>NaN</td>\n",
       "    </tr>\n",
       "    <tr>\n",
       "      <th>50%</th>\n",
       "      <td>2.238404e+00</td>\n",
       "      <td>2.240903e+00</td>\n",
       "      <td>2.461809e+00</td>\n",
       "      <td>2.230904e+00</td>\n",
       "      <td>2.230904e+00</td>\n",
       "      <td>2.230904e+00</td>\n",
       "      <td>2.461809e+00</td>\n",
       "      <td>2.500000e+00</td>\n",
       "      <td>2.500000e+00</td>\n",
       "      <td>2.500000e+00</td>\n",
       "      <td>...</td>\n",
       "      <td>10.852656</td>\n",
       "      <td>13.097923</td>\n",
       "      <td>15.054088</td>\n",
       "      <td>17.172620</td>\n",
       "      <td>17.767290</td>\n",
       "      <td>17.573469</td>\n",
       "      <td>19.914850</td>\n",
       "      <td>17.680466</td>\n",
       "      <td>16.548860</td>\n",
       "      <td>NaN</td>\n",
       "    </tr>\n",
       "    <tr>\n",
       "      <th>75%</th>\n",
       "      <td>1.312500e+01</td>\n",
       "      <td>1.427975e+01</td>\n",
       "      <td>1.240778e+01</td>\n",
       "      <td>1.125000e+01</td>\n",
       "      <td>1.125000e+01</td>\n",
       "      <td>1.237500e+01</td>\n",
       "      <td>1.055863e+01</td>\n",
       "      <td>1.450667e+01</td>\n",
       "      <td>1.757292e+01</td>\n",
       "      <td>1.783042e+01</td>\n",
       "      <td>...</td>\n",
       "      <td>158.552642</td>\n",
       "      <td>195.955250</td>\n",
       "      <td>218.248000</td>\n",
       "      <td>257.450000</td>\n",
       "      <td>211.303333</td>\n",
       "      <td>249.580000</td>\n",
       "      <td>233.374167</td>\n",
       "      <td>208.500000</td>\n",
       "      <td>206.683594</td>\n",
       "      <td>NaN</td>\n",
       "    </tr>\n",
       "    <tr>\n",
       "      <th>max</th>\n",
       "      <td>6.239863e+02</td>\n",
       "      <td>6.250000e+02</td>\n",
       "      <td>6.250000e+02</td>\n",
       "      <td>6.250000e+02</td>\n",
       "      <td>6.250000e+02</td>\n",
       "      <td>6.250000e+02</td>\n",
       "      <td>6.250000e+02</td>\n",
       "      <td>6.250000e+02</td>\n",
       "      <td>6.250000e+02</td>\n",
       "      <td>6.250000e+02</td>\n",
       "      <td>...</td>\n",
       "      <td>25941.664140</td>\n",
       "      <td>29011.491380</td>\n",
       "      <td>30914.852440</td>\n",
       "      <td>33226.298150</td>\n",
       "      <td>40864.329010</td>\n",
       "      <td>42000.000000</td>\n",
       "      <td>42000.000000</td>\n",
       "      <td>42000.000000</td>\n",
       "      <td>23271.212500</td>\n",
       "      <td>NaN</td>\n",
       "    </tr>\n",
       "  </tbody>\n",
       "</table>\n",
       "<p>8 rows × 64 columns</p>\n",
       "</div>"
      ],
      "text/plain": [
       "               1960          1961          1962          1963          1964  \\\n",
       "count  1.580000e+02  1.580000e+02  1.590000e+02  1.600000e+02  1.600000e+02   \n",
       "mean   3.965273e+01  4.008355e+01  3.987118e+01  3.974940e+01  4.129690e+01   \n",
       "std    9.088743e+01  9.119025e+01  9.092475e+01  9.067134e+01  9.273930e+01   \n",
       "min    8.100000e-14  1.170000e-13  1.680000e-13  2.490000e-13  5.420000e-13   \n",
       "25%    7.142858e-01  7.142860e-01  7.142854e-01  7.142859e-01  7.142859e-01   \n",
       "50%    2.238404e+00  2.240903e+00  2.461809e+00  2.230904e+00  2.230904e+00   \n",
       "75%    1.312500e+01  1.427975e+01  1.240778e+01  1.125000e+01  1.125000e+01   \n",
       "max    6.239863e+02  6.250000e+02  6.250000e+02  6.250000e+02  6.250000e+02   \n",
       "\n",
       "               1965          1966          1967          1968          1969  \\\n",
       "count  1.600000e+02  1.630000e+02  1.650000e+02  1.660000e+02  1.660000e+02   \n",
       "mean   4.185239e+01  4.151753e+01  4.209959e+01  4.339756e+01  4.492895e+01   \n",
       "std    9.350503e+01  9.304417e+01  9.298789e+01  9.480695e+01  9.796688e+01   \n",
       "min    5.500000e-13  5.500000e-13  1.150000e-12  1.470000e-12  1.670000e-12   \n",
       "25%    7.142859e-01  7.142859e-01  7.142860e-01  7.142860e-01  7.142860e-01   \n",
       "50%    2.230904e+00  2.461809e+00  2.500000e+00  2.500000e+00  2.500000e+00   \n",
       "75%    1.237500e+01  1.055863e+01  1.450667e+01  1.757292e+01  1.783042e+01   \n",
       "max    6.250000e+02  6.250000e+02  6.250000e+02  6.250000e+02  6.250000e+02   \n",
       "\n",
       "       ...          2014          2015          2016          2017  \\\n",
       "count  ...    181.000000    180.000000    180.000000    178.000000   \n",
       "mean   ...    755.453387    835.725343    877.954175    922.585033   \n",
       "std    ...   3126.447999   3412.961699   3560.975788   3722.403931   \n",
       "min    ...      0.284567      0.300852      0.302137      0.303350   \n",
       "25%    ...      2.352952      2.700000      2.700000      2.700000   \n",
       "50%    ...     10.852656     13.097923     15.054088     17.172620   \n",
       "75%    ...    158.552642    195.955250    218.248000    257.450000   \n",
       "max    ...  25941.664140  29011.491380  30914.852440  33226.298150   \n",
       "\n",
       "               2018          2019          2020          2021          2022  \\\n",
       "count    175.000000    175.000000    176.000000    173.000000    167.000000   \n",
       "mean     874.094095    905.836191    928.049873    887.518351    695.756151   \n",
       "std     3851.499773   3951.565262   3984.954713   3973.638502   2627.117289   \n",
       "min        0.301956      0.303611      0.306233      0.301643      0.306250   \n",
       "25%        2.673433      2.700000      2.700000      2.700000      2.700000   \n",
       "50%       17.767290     17.573469     19.914850     17.680466     16.548860   \n",
       "75%      211.303333    249.580000    233.374167    208.500000    206.683594   \n",
       "max    40864.329010  42000.000000  42000.000000  42000.000000  23271.212500   \n",
       "\n",
       "       2023  \n",
       "count   0.0  \n",
       "mean    NaN  \n",
       "std     NaN  \n",
       "min     NaN  \n",
       "25%     NaN  \n",
       "50%     NaN  \n",
       "75%     NaN  \n",
       "max     NaN  \n",
       "\n",
       "[8 rows x 64 columns]"
      ]
     },
     "execution_count": 23,
     "metadata": {},
     "output_type": "execute_result"
    }
   ],
   "source": [
    "df_currency.describe()\n",
    "#Since currency varies hugely from country to country the statistics is messy"
   ]
  },
  {
   "cell_type": "code",
   "execution_count": null,
   "id": "0a5aa54e-2296-48a2-b56a-579607fb18b1",
   "metadata": {},
   "outputs": [],
   "source": []
  }
 ],
 "metadata": {
  "kernelspec": {
   "display_name": "Python 3 (ipykernel)",
   "language": "python",
   "name": "python3"
  },
  "language_info": {
   "codemirror_mode": {
    "name": "ipython",
    "version": 3
   },
   "file_extension": ".py",
   "mimetype": "text/x-python",
   "name": "python",
   "nbconvert_exporter": "python",
   "pygments_lexer": "ipython3",
   "version": "3.11.7"
  }
 },
 "nbformat": 4,
 "nbformat_minor": 5
}
