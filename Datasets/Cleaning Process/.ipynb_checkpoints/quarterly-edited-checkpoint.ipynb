{
 "cells": [
  {
   "cell_type": "code",
   "execution_count": 10,
   "metadata": {},
   "outputs": [],
   "source": [
    "#importing required libraries...\n",
    "import pandas as pd\n",
    "from matplotlib import pyplot as plt\n",
    "import seaborn as sns"
   ]
  },
  {
   "cell_type": "markdown",
   "metadata": {},
   "source": [
    "Afghani Exchange Rate from 2007 to 2024"
   ]
  },
  {
   "cell_type": "code",
   "execution_count": 3,
   "metadata": {},
   "outputs": [],
   "source": [
    "df = pd.read_csv('quarterly-edited.csv')"
   ]
  },
  {
   "cell_type": "code",
   "execution_count": 6,
   "metadata": {},
   "outputs": [
    {
     "data": {
      "text/html": [
       "<div>\n",
       "<style scoped>\n",
       "    .dataframe tbody tr th:only-of-type {\n",
       "        vertical-align: middle;\n",
       "    }\n",
       "\n",
       "    .dataframe tbody tr th {\n",
       "        vertical-align: top;\n",
       "    }\n",
       "\n",
       "    .dataframe thead th {\n",
       "        text-align: right;\n",
       "    }\n",
       "</style>\n",
       "<table border=\"1\" class=\"dataframe\">\n",
       "  <thead>\n",
       "    <tr style=\"text-align: right;\">\n",
       "      <th></th>\n",
       "      <th>country</th>\n",
       "      <th>unit</th>\n",
       "      <th>2001Q1</th>\n",
       "      <th>2001Q2</th>\n",
       "      <th>2001Q3</th>\n",
       "      <th>2001Q4</th>\n",
       "      <th>2002Q1</th>\n",
       "      <th>2002Q2</th>\n",
       "      <th>2002Q3</th>\n",
       "      <th>2002Q4</th>\n",
       "      <th>...</th>\n",
       "      <th>2014Q2</th>\n",
       "      <th>2014Q3</th>\n",
       "      <th>2014Q4</th>\n",
       "      <th>2015Q1</th>\n",
       "      <th>2015Q2</th>\n",
       "      <th>2015Q3</th>\n",
       "      <th>2015Q4</th>\n",
       "      <th>2016Q1</th>\n",
       "      <th>2016Q2</th>\n",
       "      <th>2016Q3</th>\n",
       "    </tr>\n",
       "  </thead>\n",
       "  <tbody>\n",
       "    <tr>\n",
       "      <th>0</th>\n",
       "      <td>AFGHANISTAN</td>\n",
       "      <td>AFGHANI</td>\n",
       "      <td>78400.000</td>\n",
       "      <td>73000.000</td>\n",
       "      <td>71500.000</td>\n",
       "      <td>38200.000</td>\n",
       "      <td>35000.000</td>\n",
       "      <td>36807.000</td>\n",
       "      <td>38600.000</td>\n",
       "      <td>39000.000</td>\n",
       "      <td>...</td>\n",
       "      <td>57.390</td>\n",
       "      <td>57.05</td>\n",
       "      <td>57.90</td>\n",
       "      <td>57.34</td>\n",
       "      <td>60.260</td>\n",
       "      <td>63.800</td>\n",
       "      <td>67.900</td>\n",
       "      <td>68.450</td>\n",
       "      <td>68.220</td>\n",
       "      <td>65.35</td>\n",
       "    </tr>\n",
       "    <tr>\n",
       "      <th>1</th>\n",
       "      <td>ALBANIA</td>\n",
       "      <td>LEK</td>\n",
       "      <td>142.400</td>\n",
       "      <td>149.000</td>\n",
       "      <td>142.000</td>\n",
       "      <td>136.300</td>\n",
       "      <td>139.810</td>\n",
       "      <td>143.800</td>\n",
       "      <td>139.400</td>\n",
       "      <td>132.880</td>\n",
       "      <td>...</td>\n",
       "      <td>102.620</td>\n",
       "      <td>110.64</td>\n",
       "      <td>115.10</td>\n",
       "      <td>130.25</td>\n",
       "      <td>125.030</td>\n",
       "      <td>123.990</td>\n",
       "      <td>125.540</td>\n",
       "      <td>121.350</td>\n",
       "      <td>123.160</td>\n",
       "      <td>122.77</td>\n",
       "    </tr>\n",
       "    <tr>\n",
       "      <th>2</th>\n",
       "      <td>ALGERIA</td>\n",
       "      <td>DINAR</td>\n",
       "      <td>76.539</td>\n",
       "      <td>78.101</td>\n",
       "      <td>76.429</td>\n",
       "      <td>78.078</td>\n",
       "      <td>78.319</td>\n",
       "      <td>80.207</td>\n",
       "      <td>79.969</td>\n",
       "      <td>81.045</td>\n",
       "      <td>...</td>\n",
       "      <td>79.098</td>\n",
       "      <td>82.95</td>\n",
       "      <td>87.81</td>\n",
       "      <td>97.38</td>\n",
       "      <td>98.592</td>\n",
       "      <td>105.739</td>\n",
       "      <td>106.878</td>\n",
       "      <td>108.301</td>\n",
       "      <td>109.866</td>\n",
       "      <td>109.35</td>\n",
       "    </tr>\n",
       "    <tr>\n",
       "      <th>3</th>\n",
       "      <td>ANGOLA</td>\n",
       "      <td>KWANZA</td>\n",
       "      <td>19.706</td>\n",
       "      <td>19.706</td>\n",
       "      <td>20.389</td>\n",
       "      <td>30.044</td>\n",
       "      <td>34.320</td>\n",
       "      <td>40.236</td>\n",
       "      <td>46.178</td>\n",
       "      <td>53.307</td>\n",
       "      <td>...</td>\n",
       "      <td>98.000</td>\n",
       "      <td>98.00</td>\n",
       "      <td>104.00</td>\n",
       "      <td>104.00</td>\n",
       "      <td>120.000</td>\n",
       "      <td>145.000</td>\n",
       "      <td>145.000</td>\n",
       "      <td>160.000</td>\n",
       "      <td>170.000</td>\n",
       "      <td>170.00</td>\n",
       "    </tr>\n",
       "    <tr>\n",
       "      <th>4</th>\n",
       "      <td>ANTIGUA-BARBUDA</td>\n",
       "      <td>E. CARIBBEAN DOLLAR</td>\n",
       "      <td>2.700</td>\n",
       "      <td>2.700</td>\n",
       "      <td>2.700</td>\n",
       "      <td>2.700</td>\n",
       "      <td>2.700</td>\n",
       "      <td>2.700</td>\n",
       "      <td>2.700</td>\n",
       "      <td>2.700</td>\n",
       "      <td>...</td>\n",
       "      <td>2.700</td>\n",
       "      <td>2.70</td>\n",
       "      <td>2.70</td>\n",
       "      <td>2.70</td>\n",
       "      <td>2.700</td>\n",
       "      <td>2.700</td>\n",
       "      <td>2.700</td>\n",
       "      <td>2.700</td>\n",
       "      <td>2.700</td>\n",
       "      <td>2.70</td>\n",
       "    </tr>\n",
       "  </tbody>\n",
       "</table>\n",
       "<p>5 rows × 65 columns</p>\n",
       "</div>"
      ],
      "text/plain": [
       "           country                 unit     2001Q1     2001Q2     2001Q3  \\\n",
       "0      AFGHANISTAN              AFGHANI  78400.000  73000.000  71500.000   \n",
       "1          ALBANIA                  LEK    142.400    149.000    142.000   \n",
       "2          ALGERIA                DINAR     76.539     78.101     76.429   \n",
       "3           ANGOLA               KWANZA     19.706     19.706     20.389   \n",
       "4  ANTIGUA-BARBUDA  E. CARIBBEAN DOLLAR      2.700      2.700      2.700   \n",
       "\n",
       "      2001Q4     2002Q1     2002Q2     2002Q3     2002Q4  ...   2014Q2  \\\n",
       "0  38200.000  35000.000  36807.000  38600.000  39000.000  ...   57.390   \n",
       "1    136.300    139.810    143.800    139.400    132.880  ...  102.620   \n",
       "2     78.078     78.319     80.207     79.969     81.045  ...   79.098   \n",
       "3     30.044     34.320     40.236     46.178     53.307  ...   98.000   \n",
       "4      2.700      2.700      2.700      2.700      2.700  ...    2.700   \n",
       "\n",
       "   2014Q3  2014Q4  2015Q1   2015Q2   2015Q3   2015Q4   2016Q1   2016Q2  2016Q3  \n",
       "0   57.05   57.90   57.34   60.260   63.800   67.900   68.450   68.220   65.35  \n",
       "1  110.64  115.10  130.25  125.030  123.990  125.540  121.350  123.160  122.77  \n",
       "2   82.95   87.81   97.38   98.592  105.739  106.878  108.301  109.866  109.35  \n",
       "3   98.00  104.00  104.00  120.000  145.000  145.000  160.000  170.000  170.00  \n",
       "4    2.70    2.70    2.70    2.700    2.700    2.700    2.700    2.700    2.70  \n",
       "\n",
       "[5 rows x 65 columns]"
      ]
     },
     "execution_count": 6,
     "metadata": {},
     "output_type": "execute_result"
    }
   ],
   "source": [
    "#Checking a beginnig of the records\n",
    "df.head()"
   ]
  },
  {
   "cell_type": "code",
   "execution_count": 7,
   "metadata": {},
   "outputs": [
    {
     "data": {
      "text/plain": [
       "Index(['country', 'unit', '2001Q1', '2001Q2', '2001Q3', '2001Q4', '2002Q1',\n",
       "       '2002Q2', '2002Q3', '2002Q4', '2003Q1', '2003Q2', '2003Q3', '2003Q4',\n",
       "       '2004Q1', '2004Q2', '2004Q3', '2004Q4', '2005Q1', '2005Q2', '2005Q3',\n",
       "       '2005Q4', '2006Q1', '2006Q2', '2006Q3', '2006Q4', '2007Q1', '2007Q2',\n",
       "       '2007Q3', '2007Q4', '2008Q1', '2008Q2', '2008Q3', '2008Q4', '2009Q1',\n",
       "       '2009Q2', '2009Q3', '2009Q4', '2010Q1', '2010Q2', '2010Q3', '2010Q4',\n",
       "       '2011Q1', '2011Q2', '2011Q3', '2011Q4', '2012Q1', '2012Q2', '2012Q3',\n",
       "       '2012Q4', '2013Q1', '2013Q2', '2013Q3', '2013Q4', '2014Q1', '2014Q2',\n",
       "       '2014Q3', '2014Q4', '2015Q1', '2015Q2', '2015Q3', '2015Q4', '2016Q1',\n",
       "       '2016Q2', '2016Q3'],\n",
       "      dtype='object')"
      ]
     },
     "execution_count": 7,
     "metadata": {},
     "output_type": "execute_result"
    }
   ],
   "source": [
    "#Checking the column names in the dataset\n",
    "df.columns"
   ]
  },
  {
   "cell_type": "code",
   "execution_count": 15,
   "metadata": {},
   "outputs": [
    {
     "name": "stdout",
     "output_type": "stream",
     "text": [
      "country    AFGHANISTAN\n",
      "unit           AFGHANI\n",
      "2001Q1         78400.0\n",
      "2001Q2         73000.0\n",
      "2001Q3         71500.0\n",
      "              ...     \n",
      "2015Q3            63.8\n",
      "2015Q4            67.9\n",
      "2016Q1           68.45\n",
      "2016Q2           68.22\n",
      "2016Q3           65.35\n",
      "Name: 0, Length: 65, dtype: object\n"
     ]
    },
    {
     "data": {
      "text/plain": [
       "<Axes: ylabel='0'>"
      ]
     },
     "execution_count": 15,
     "metadata": {},
     "output_type": "execute_result"
    },
    {
     "data": {
      "image/png": "[encoded data removed]",
      "text/plain": [
       "<Figure size 640x480 with 1 Axes>"
      ]
     },
     "metadata": {},
     "output_type": "display_data"
    }
   ],
   "source": [
    "Afghani =(df.iloc[0])\n",
    "print(Afghani)\n",
    "year = ['2001Q1', '2001Q2', '2001Q3', '2001Q4', '2002Q1',\n",
    "       '2002Q2', '2002Q3', '2002Q4', '2003Q1', '2003Q2', '2003Q3', '2003Q4',\n",
    "       '2004Q1', '2004Q2', '2004Q3', '2004Q4', '2005Q1', '2005Q2', '2005Q3',\n",
    "       '2005Q4', '2006Q1', '2006Q2', '2006Q3', '2006Q4', '2007Q1', '2007Q2',\n",
    "       '2007Q3', '2007Q4', '2008Q1', '2008Q2', '2008Q3', '2008Q4', '2009Q1',\n",
    "       '2009Q2', '2009Q3', '2009Q4', '2010Q1', '2010Q2', '2010Q3', '2010Q4',\n",
    "       '2011Q1', '2011Q2', '2011Q3', '2011Q4', '2012Q1', '2012Q2', '2012Q3',\n",
    "       '2012Q4', '2013Q1', '2013Q2', '2013Q3', '2013Q4', '2014Q1', '2014Q2',\n",
    "       '2014Q3', '2014Q4', '2015Q1', '2015Q2', '2015Q3', '2015Q4', '2016Q1',\n",
    "       '2016Q2', '2016Q3']\n",
    "sns.scatterplot(x = year[8:], y=Afghani[10:])"
   ]
  },
  {
   "cell_type": "code",
   "execution_count": 16,
   "metadata": {},
   "outputs": [],
   "source": [
    "#Making another copy of our dataset, so that not to lose the original one in case of any changes\n",
    "df_copy= df.copy()"
   ]
  },
  {
   "cell_type": "code",
   "execution_count": 17,
   "metadata": {},
   "outputs": [
    {
     "data": {
      "text/plain": [
       "country     object\n",
       "unit        object\n",
       "2001Q1     float64\n",
       "2001Q2     float64\n",
       "2001Q3     float64\n",
       "            ...   \n",
       "2015Q3     float64\n",
       "2015Q4     float64\n",
       "2016Q1     float64\n",
       "2016Q2     float64\n",
       "2016Q3     float64\n",
       "Length: 65, dtype: object"
      ]
     },
     "execution_count": 17,
     "metadata": {},
     "output_type": "execute_result"
    }
   ],
   "source": [
    "#Checking what data types are the variables\n",
    "df_copy.dtypes"
   ]
  },
  {
   "cell_type": "code",
   "execution_count": 18,
   "metadata": {},
   "outputs": [
    {
     "data": {
      "text/plain": [
       "(221, 65)"
      ]
     },
     "execution_count": 18,
     "metadata": {},
     "output_type": "execute_result"
    }
   ],
   "source": [
    "df_copy.shape"
   ]
  },
  {
   "cell_type": "code",
   "execution_count": 17,
   "metadata": {},
   "outputs": [
    {
     "data": {
      "text/plain": [
       "68.45"
      ]
     },
     "execution_count": 17,
     "metadata": {},
     "output_type": "execute_result"
    }
   ],
   "source": [
    "max(Afghani[10:\n",
    "    ])"
   ]
  },
  {
   "cell_type": "code",
   "execution_count": 18,
   "metadata": {},
   "outputs": [
    {
     "data": {
      "text/plain": [
       "40.3"
      ]
     },
     "execution_count": 18,
     "metadata": {},
     "output_type": "execute_result"
    }
   ],
   "source": [
    "min(Afghani[10:\n",
    "    ])"
   ]
  },
  {
   "cell_type": "code",
   "execution_count": 24,
   "metadata": {},
   "outputs": [
    {
     "name": "stdout",
     "output_type": "stream",
     "text": [
      "country    False\n",
      "unit       False\n",
      "2001Q1     False\n",
      "2001Q2     False\n",
      "2001Q3     False\n",
      "           ...  \n",
      "2015Q3     False\n",
      "2015Q4     False\n",
      "2016Q1     False\n",
      "2016Q2     False\n",
      "2016Q3     False\n",
      "Name: 0, Length: 65, dtype: bool\n"
     ]
    }
   ],
   "source": [
    "print(df.iloc[0]==40.3)"
   ]
  },
  {
   "cell_type": "code",
   "execution_count": null,
   "metadata": {},
   "outputs": [],
   "source": []
  },
  {
   "cell_type": "code",
   "execution_count": null,
   "metadata": {},
   "outputs": [],
   "source": []
  },
  {
   "cell_type": "code",
   "execution_count": null,
   "metadata": {},
   "outputs": [],
   "source": []
  }
 ],
 "metadata": {
  "kernelspec": {
   "display_name": "Python 3 (ipykernel)",
   "language": "python",
   "name": "python3"
  },
  "language_info": {
   "codemirror_mode": {
    "name": "ipython",
    "version": 3
   },
   "file_extension": ".py",
   "mimetype": "text/x-python",
   "name": "python",
   "nbconvert_exporter": "python",
   "pygments_lexer": "ipython3",
   "version": "3.11.7"
  }
 },
 "nbformat": 4,
 "nbformat_minor": 4
}
