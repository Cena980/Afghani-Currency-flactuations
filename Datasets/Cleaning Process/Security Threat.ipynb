{
 "cells": [
  {
   "cell_type": "code",
   "execution_count": 3,
   "id": "3b0b0ceb-da35-470b-8693-adaad53bca91",
   "metadata": {},
   "outputs": [],
   "source": [
    "import pandas as pd\n",
    "import matplotlib as plt\n",
    "import seaborn as sns"
   ]
  },
  {
   "cell_type": "code",
   "execution_count": 4,
   "id": "79b6a1d2-8d49-4900-82c0-5d249ab72153",
   "metadata": {},
   "outputs": [],
   "source": [
    "df = pd.read_csv('security-threat-level.csv')"
   ]
  },
  {
   "cell_type": "code",
   "execution_count": 5,
   "id": "6ff35402-1fb9-4f19-8995-0fe804dc1324",
   "metadata": {},
   "outputs": [
    {
     "data": {
      "text/html": [
       "<div>\n",
       "<style scoped>\n",
       "    .dataframe tbody tr th:only-of-type {\n",
       "        vertical-align: middle;\n",
       "    }\n",
       "\n",
       "    .dataframe tbody tr th {\n",
       "        vertical-align: top;\n",
       "    }\n",
       "\n",
       "    .dataframe thead th {\n",
       "        text-align: right;\n",
       "    }\n",
       "</style>\n",
       "<table border=\"1\" class=\"dataframe\">\n",
       "  <thead>\n",
       "    <tr style=\"text-align: right;\">\n",
       "      <th></th>\n",
       "      <th>Countries</th>\n",
       "      <th>SecurityThreatsIndex2023</th>\n",
       "      <th>GlobalRank</th>\n",
       "    </tr>\n",
       "  </thead>\n",
       "  <tbody>\n",
       "    <tr>\n",
       "      <th>0</th>\n",
       "      <td>Ukraine</td>\n",
       "      <td>10.0</td>\n",
       "      <td>1</td>\n",
       "    </tr>\n",
       "    <tr>\n",
       "      <th>1</th>\n",
       "      <td>Afghanistan</td>\n",
       "      <td>9.7</td>\n",
       "      <td>2</td>\n",
       "    </tr>\n",
       "    <tr>\n",
       "      <th>2</th>\n",
       "      <td>Mali</td>\n",
       "      <td>9.6</td>\n",
       "      <td>3</td>\n",
       "    </tr>\n",
       "    <tr>\n",
       "      <th>3</th>\n",
       "      <td>Libya</td>\n",
       "      <td>9.5</td>\n",
       "      <td>4</td>\n",
       "    </tr>\n",
       "    <tr>\n",
       "      <th>4</th>\n",
       "      <td>Somalia</td>\n",
       "      <td>9.5</td>\n",
       "      <td>5</td>\n",
       "    </tr>\n",
       "  </tbody>\n",
       "</table>\n",
       "</div>"
      ],
      "text/plain": [
       "     Countries  SecurityThreatsIndex2023  GlobalRank\n",
       "0      Ukraine                      10.0           1\n",
       "1  Afghanistan                       9.7           2\n",
       "2         Mali                       9.6           3\n",
       "3        Libya                       9.5           4\n",
       "4      Somalia                       9.5           5"
      ]
     },
     "execution_count": 5,
     "metadata": {},
     "output_type": "execute_result"
    }
   ],
   "source": [
    "df.head()"
   ]
  },
  {
   "cell_type": "code",
   "execution_count": 6,
   "id": "c0128db3-c587-47f5-af29-8fda4c843917",
   "metadata": {},
   "outputs": [
    {
     "data": {
      "text/plain": [
       "Index(['Countries', 'SecurityThreatsIndex2023', 'GlobalRank'], dtype='object')"
      ]
     },
     "execution_count": 6,
     "metadata": {},
     "output_type": "execute_result"
    }
   ],
   "source": [
    "df.columns"
   ]
  },
  {
   "cell_type": "code",
   "execution_count": 7,
   "id": "9954cdb0-2739-4fcd-9ef1-9e8fdf5afbd9",
   "metadata": {},
   "outputs": [
    {
     "data": {
      "text/html": [
       "<div>\n",
       "<style scoped>\n",
       "    .dataframe tbody tr th:only-of-type {\n",
       "        vertical-align: middle;\n",
       "    }\n",
       "\n",
       "    .dataframe tbody tr th {\n",
       "        vertical-align: top;\n",
       "    }\n",
       "\n",
       "    .dataframe thead th {\n",
       "        text-align: right;\n",
       "    }\n",
       "</style>\n",
       "<table border=\"1\" class=\"dataframe\">\n",
       "  <thead>\n",
       "    <tr style=\"text-align: right;\">\n",
       "      <th></th>\n",
       "      <th>Countries</th>\n",
       "      <th>SecurityThreatsIndex2023</th>\n",
       "      <th>GlobalRank</th>\n",
       "    </tr>\n",
       "  </thead>\n",
       "  <tbody>\n",
       "    <tr>\n",
       "      <th>172</th>\n",
       "      <td>Iceland</td>\n",
       "      <td>0.4</td>\n",
       "      <td>173</td>\n",
       "    </tr>\n",
       "    <tr>\n",
       "      <th>173</th>\n",
       "      <td>Luxembourg</td>\n",
       "      <td>0.4</td>\n",
       "      <td>174</td>\n",
       "    </tr>\n",
       "    <tr>\n",
       "      <th>174</th>\n",
       "      <td>Singapore</td>\n",
       "      <td>0.4</td>\n",
       "      <td>175</td>\n",
       "    </tr>\n",
       "    <tr>\n",
       "      <th>175</th>\n",
       "      <td>Portugal</td>\n",
       "      <td>0.3</td>\n",
       "      <td>176</td>\n",
       "    </tr>\n",
       "    <tr>\n",
       "      <th>176</th>\n",
       "      <td>Slovenia</td>\n",
       "      <td>0.3</td>\n",
       "      <td>177</td>\n",
       "    </tr>\n",
       "  </tbody>\n",
       "</table>\n",
       "</div>"
      ],
      "text/plain": [
       "      Countries  SecurityThreatsIndex2023  GlobalRank\n",
       "172     Iceland                       0.4         173\n",
       "173  Luxembourg                       0.4         174\n",
       "174   Singapore                       0.4         175\n",
       "175    Portugal                       0.3         176\n",
       "176    Slovenia                       0.3         177"
      ]
     },
     "execution_count": 7,
     "metadata": {},
     "output_type": "execute_result"
    }
   ],
   "source": [
    "df.tail() "
   ]
  },
  {
   "cell_type": "code",
   "execution_count": 8,
   "id": "b7df60f7-96ef-4ade-9cf3-b5b2ac363e84",
   "metadata": {},
   "outputs": [],
   "source": [
    "x= df.SecurityThreatsIndex2023\n",
    "y=df.Countries"
   ]
  },
  {
   "cell_type": "code",
   "execution_count": 9,
   "id": "576cfb1c-a756-4aaf-a50f-f567733331a2",
   "metadata": {},
   "outputs": [
    {
     "data": {
      "text/plain": [
       "<Axes: xlabel='Countries', ylabel='SecurityThreatsIndex2023'>"
      ]
     },
     "execution_count": 9,
     "metadata": {},
     "output_type": "execute_result"
    },
    {
     "data": {
      "image/png": "[encoded data removed]",
      "text/plain": [
       "<Figure size 640x480 with 1 Axes>"
      ]
     },
     "metadata": {},
     "output_type": "display_data"
    }
   ],
   "source": [
    "sns.scatterplot(x = y, y=x)\n"
   ]
  },
  {
   "cell_type": "code",
   "execution_count": 22,
   "id": "6c20967c-29f3-44b7-84af-e8c047a11bf3",
   "metadata": {},
   "outputs": [],
   "source": [
    "Uk = max(x)\n"
   ]
  },
  {
   "cell_type": "code",
   "execution_count": 12,
   "id": "8215d35c-8bc0-486e-b0e5-29a39d891c26",
   "metadata": {},
   "outputs": [
    {
     "name": "stdout",
     "output_type": "stream",
     "text": [
      "0    Ukraine\n",
      "Name: Countries, dtype: object\n"
     ]
    }
   ],
   "source": [
    "print(df.loc[df['SecurityThreatsIndex2023']==10, 'Countries'])"
   ]
  },
  {
   "cell_type": "code",
   "execution_count": 33,
   "id": "8414badf-3eca-45b4-9e30-8e45eadb8444",
   "metadata": {},
   "outputs": [],
   "source": [
    "Af = max(x[1:])"
   ]
  },
  {
   "cell_type": "code",
   "execution_count": 34,
   "id": "e7a37ee4-943d-4258-9872-6cd789532ea7",
   "metadata": {},
   "outputs": [
    {
     "name": "stdout",
     "output_type": "stream",
     "text": [
      "0.3\n"
     ]
    }
   ],
   "source": [
    "print(min(x))"
   ]
  },
  {
   "cell_type": "code",
   "execution_count": 35,
   "id": "80bcac78-9ab1-404c-af64-e392349e8db1",
   "metadata": {},
   "outputs": [
    {
     "name": "stdout",
     "output_type": "stream",
     "text": [
      "175    Portugal\n",
      "176    Slovenia\n",
      "Name: Countries, dtype: object\n"
     ]
    }
   ],
   "source": [
    "print(df.loc[df['SecurityThreatsIndex2023']==0.3, 'Countries'])"
   ]
  },
  {
   "cell_type": "code",
   "execution_count": 37,
   "id": "38907d82-8a18-4271-ae52-a514560304f8",
   "metadata": {},
   "outputs": [],
   "source": [
    "Por = 0.3"
   ]
  },
  {
   "cell_type": "code",
   "execution_count": 14,
   "id": "8226ed6e-2096-4928-8ffb-dd82e08217fc",
   "metadata": {},
   "outputs": [
    {
     "name": "stdout",
     "output_type": "stream",
     "text": [
      "1    Afghanistan\n",
      "Name: Countries, dtype: object\n"
     ]
    }
   ],
   "source": [
    "print(df.loc[df['SecurityThreatsIndex2023']==9.7, 'Countries'])"
   ]
  },
  {
   "cell_type": "code",
   "execution_count": 38,
   "id": "c165a271-c886-4d2d-8068-8aad9c301bef",
   "metadata": {},
   "outputs": [],
   "source": [
    "list = (Uk, Af, Por)\n",
    "Name = (\"Afghanistan\", \"Ukraine\", \"Portugal\")"
   ]
  },
  {
   "cell_type": "code",
   "execution_count": 48,
   "id": "172e0ef9-4421-404e-bfd7-5e139f2426dd",
   "metadata": {},
   "outputs": [
    {
     "name": "stderr",
     "output_type": "stream",
     "text": [
      "C:\\Users\\Sina\\anaconda3\\Lib\\site-packages\\seaborn\\_oldcore.py:1119: FutureWarning: use_inf_as_na option is deprecated and will be removed in a future version. Convert inf values to NaN before operating instead.\n",
      "  with pd.option_context('mode.use_inf_as_na', True):\n",
      "C:\\Users\\Sina\\anaconda3\\Lib\\site-packages\\seaborn\\_oldcore.py:1119: FutureWarning: use_inf_as_na option is deprecated and will be removed in a future version. Convert inf values to NaN before operating instead.\n",
      "  with pd.option_context('mode.use_inf_as_na', True):\n"
     ]
    },
    {
     "data": {
      "text/plain": [
       "<Axes: >"
      ]
     },
     "execution_count": 48,
     "metadata": {},
     "output_type": "execute_result"
    },
    {
     "data": {
      "image/png": "[encoded data removed]",
      "text/plain": [
       "<Figure size 640x480 with 1 Axes>"
      ]
     },
     "metadata": {},
     "output_type": "display_data"
    }
   ],
   "source": [
    "sns.lineplot(x = Name, y=list, color=\"blue\")"
   ]
  },
  {
   "cell_type": "code",
   "execution_count": null,
   "id": "2ad08a31-54d3-4931-83b5-96c3b7917929",
   "metadata": {},
   "outputs": [],
   "source": [
    "Somalia has a threat level of 9.5 in 2023"
   ]
  },
  {
   "cell_type": "code",
   "execution_count": null,
   "id": "6ed0e41f-9417-4f04-82a5-a6a447e82460",
   "metadata": {},
   "outputs": [],
   "source": []
  }
 ],
 "metadata": {
  "kernelspec": {
   "display_name": "Python 3 (ipykernel)",
   "language": "python",
   "name": "python3"
  },
  "language_info": {
   "codemirror_mode": {
    "name": "ipython",
    "version": 3
   },
   "file_extension": ".py",
   "mimetype": "text/x-python",
   "name": "python",
   "nbconvert_exporter": "python",
   "pygments_lexer": "ipython3",
   "version": "3.11.7"
  }
 },
 "nbformat": 4,
 "nbformat_minor": 5
}
